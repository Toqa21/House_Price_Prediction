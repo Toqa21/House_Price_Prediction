{
 "cells": [
  {
   "cell_type": "markdown",
   "metadata": {
    "id": "FlxO9Ht-ciBk"
   },
   "source": [
    "#1- Importing Required Libraries"
   ]
  },
  {
   "cell_type": "code",
   "execution_count": 61,
   "metadata": {
    "id": "qvS_1t3vcf1N"
   },
   "outputs": [],
   "source": [
    "import pandas as pd \n",
    "import numpy as np \n",
    "import matplotlib.pyplot as plt\n",
    "import seaborn as sns \n",
    "import  warnings \n",
    "warnings.filterwarnings(\"ignore\")"
   ]
  },
  {
   "cell_type": "markdown",
   "metadata": {
    "id": "WKijqkOsc0ro"
   },
   "source": [
    "# 2-Importing data and taking a firt glance \n"
   ]
  },
  {
   "cell_type": "code",
   "execution_count": 62,
   "metadata": {
    "id": "e4_RD51pcpLC"
   },
   "outputs": [],
   "source": [
    "df=pd.read_csv(\"kc_house_data.csv\") # ... reading data "
   ]
  },
  {
   "cell_type": "code",
   "execution_count": 63,
   "metadata": {
    "colab": {
     "base_uri": "https://localhost:8080/",
     "height": 299
    },
    "id": "jmeHVYBHdIDZ",
    "outputId": "565b07ed-d5d9-4979-ec42-fc9a8534406c"
   },
   "outputs": [
    {
     "data": {
      "text/html": [
       "<div>\n",
       "<style scoped>\n",
       "    .dataframe tbody tr th:only-of-type {\n",
       "        vertical-align: middle;\n",
       "    }\n",
       "\n",
       "    .dataframe tbody tr th {\n",
       "        vertical-align: top;\n",
       "    }\n",
       "\n",
       "    .dataframe thead th {\n",
       "        text-align: right;\n",
       "    }\n",
       "</style>\n",
       "<table border=\"1\" class=\"dataframe\">\n",
       "  <thead>\n",
       "    <tr style=\"text-align: right;\">\n",
       "      <th></th>\n",
       "      <th>id</th>\n",
       "      <th>date</th>\n",
       "      <th>price</th>\n",
       "      <th>bedrooms</th>\n",
       "      <th>bathrooms</th>\n",
       "      <th>sqft_living</th>\n",
       "      <th>sqft_lot</th>\n",
       "      <th>floors</th>\n",
       "      <th>waterfront</th>\n",
       "      <th>view</th>\n",
       "      <th>...</th>\n",
       "      <th>grade</th>\n",
       "      <th>sqft_above</th>\n",
       "      <th>sqft_basement</th>\n",
       "      <th>yr_built</th>\n",
       "      <th>yr_renovated</th>\n",
       "      <th>zipcode</th>\n",
       "      <th>lat</th>\n",
       "      <th>long</th>\n",
       "      <th>sqft_living15</th>\n",
       "      <th>sqft_lot15</th>\n",
       "    </tr>\n",
       "  </thead>\n",
       "  <tbody>\n",
       "    <tr>\n",
       "      <th>0</th>\n",
       "      <td>7129300520</td>\n",
       "      <td>20141013T000000</td>\n",
       "      <td>221900.0</td>\n",
       "      <td>3</td>\n",
       "      <td>1.00</td>\n",
       "      <td>1180</td>\n",
       "      <td>5650</td>\n",
       "      <td>1.0</td>\n",
       "      <td>0</td>\n",
       "      <td>0</td>\n",
       "      <td>...</td>\n",
       "      <td>7</td>\n",
       "      <td>1180</td>\n",
       "      <td>0</td>\n",
       "      <td>1955</td>\n",
       "      <td>0</td>\n",
       "      <td>98178</td>\n",
       "      <td>47.5112</td>\n",
       "      <td>-122.257</td>\n",
       "      <td>1340</td>\n",
       "      <td>5650</td>\n",
       "    </tr>\n",
       "    <tr>\n",
       "      <th>1</th>\n",
       "      <td>6414100192</td>\n",
       "      <td>20141209T000000</td>\n",
       "      <td>538000.0</td>\n",
       "      <td>3</td>\n",
       "      <td>2.25</td>\n",
       "      <td>2570</td>\n",
       "      <td>7242</td>\n",
       "      <td>2.0</td>\n",
       "      <td>0</td>\n",
       "      <td>0</td>\n",
       "      <td>...</td>\n",
       "      <td>7</td>\n",
       "      <td>2170</td>\n",
       "      <td>400</td>\n",
       "      <td>1951</td>\n",
       "      <td>1991</td>\n",
       "      <td>98125</td>\n",
       "      <td>47.7210</td>\n",
       "      <td>-122.319</td>\n",
       "      <td>1690</td>\n",
       "      <td>7639</td>\n",
       "    </tr>\n",
       "    <tr>\n",
       "      <th>2</th>\n",
       "      <td>5631500400</td>\n",
       "      <td>20150225T000000</td>\n",
       "      <td>180000.0</td>\n",
       "      <td>2</td>\n",
       "      <td>1.00</td>\n",
       "      <td>770</td>\n",
       "      <td>10000</td>\n",
       "      <td>1.0</td>\n",
       "      <td>0</td>\n",
       "      <td>0</td>\n",
       "      <td>...</td>\n",
       "      <td>6</td>\n",
       "      <td>770</td>\n",
       "      <td>0</td>\n",
       "      <td>1933</td>\n",
       "      <td>0</td>\n",
       "      <td>98028</td>\n",
       "      <td>47.7379</td>\n",
       "      <td>-122.233</td>\n",
       "      <td>2720</td>\n",
       "      <td>8062</td>\n",
       "    </tr>\n",
       "    <tr>\n",
       "      <th>3</th>\n",
       "      <td>2487200875</td>\n",
       "      <td>20141209T000000</td>\n",
       "      <td>604000.0</td>\n",
       "      <td>4</td>\n",
       "      <td>3.00</td>\n",
       "      <td>1960</td>\n",
       "      <td>5000</td>\n",
       "      <td>1.0</td>\n",
       "      <td>0</td>\n",
       "      <td>0</td>\n",
       "      <td>...</td>\n",
       "      <td>7</td>\n",
       "      <td>1050</td>\n",
       "      <td>910</td>\n",
       "      <td>1965</td>\n",
       "      <td>0</td>\n",
       "      <td>98136</td>\n",
       "      <td>47.5208</td>\n",
       "      <td>-122.393</td>\n",
       "      <td>1360</td>\n",
       "      <td>5000</td>\n",
       "    </tr>\n",
       "    <tr>\n",
       "      <th>4</th>\n",
       "      <td>1954400510</td>\n",
       "      <td>20150218T000000</td>\n",
       "      <td>510000.0</td>\n",
       "      <td>3</td>\n",
       "      <td>2.00</td>\n",
       "      <td>1680</td>\n",
       "      <td>8080</td>\n",
       "      <td>1.0</td>\n",
       "      <td>0</td>\n",
       "      <td>0</td>\n",
       "      <td>...</td>\n",
       "      <td>8</td>\n",
       "      <td>1680</td>\n",
       "      <td>0</td>\n",
       "      <td>1987</td>\n",
       "      <td>0</td>\n",
       "      <td>98074</td>\n",
       "      <td>47.6168</td>\n",
       "      <td>-122.045</td>\n",
       "      <td>1800</td>\n",
       "      <td>7503</td>\n",
       "    </tr>\n",
       "  </tbody>\n",
       "</table>\n",
       "<p>5 rows × 21 columns</p>\n",
       "</div>"
      ],
      "text/plain": [
       "           id             date     price  bedrooms  bathrooms  sqft_living  \\\n",
       "0  7129300520  20141013T000000  221900.0         3       1.00         1180   \n",
       "1  6414100192  20141209T000000  538000.0         3       2.25         2570   \n",
       "2  5631500400  20150225T000000  180000.0         2       1.00          770   \n",
       "3  2487200875  20141209T000000  604000.0         4       3.00         1960   \n",
       "4  1954400510  20150218T000000  510000.0         3       2.00         1680   \n",
       "\n",
       "   sqft_lot  floors  waterfront  view  ...  grade  sqft_above  sqft_basement  \\\n",
       "0      5650     1.0           0     0  ...      7        1180              0   \n",
       "1      7242     2.0           0     0  ...      7        2170            400   \n",
       "2     10000     1.0           0     0  ...      6         770              0   \n",
       "3      5000     1.0           0     0  ...      7        1050            910   \n",
       "4      8080     1.0           0     0  ...      8        1680              0   \n",
       "\n",
       "   yr_built  yr_renovated  zipcode      lat     long  sqft_living15  \\\n",
       "0      1955             0    98178  47.5112 -122.257           1340   \n",
       "1      1951          1991    98125  47.7210 -122.319           1690   \n",
       "2      1933             0    98028  47.7379 -122.233           2720   \n",
       "3      1965             0    98136  47.5208 -122.393           1360   \n",
       "4      1987             0    98074  47.6168 -122.045           1800   \n",
       "\n",
       "   sqft_lot15  \n",
       "0        5650  \n",
       "1        7639  \n",
       "2        8062  \n",
       "3        5000  \n",
       "4        7503  \n",
       "\n",
       "[5 rows x 21 columns]"
      ]
     },
     "execution_count": 63,
     "metadata": {},
     "output_type": "execute_result"
    }
   ],
   "source": [
    "df.head(5) # ... showing the first five rows from the data \n"
   ]
  },
  {
   "cell_type": "code",
   "execution_count": 64,
   "metadata": {
    "colab": {
     "base_uri": "https://localhost:8080/"
    },
    "id": "wRScGqtRdJf7",
    "outputId": "efe71e48-9fff-44b1-edb1-a7e831f8ed47"
   },
   "outputs": [
    {
     "name": "stdout",
     "output_type": "stream",
     "text": [
      "shape of the data frame : (21613, 21)\n",
      "name of columns :  Index(['id', 'date', 'price', 'bedrooms', 'bathrooms', 'sqft_living',\n",
      "       'sqft_lot', 'floors', 'waterfront', 'view', 'condition', 'grade',\n",
      "       'sqft_above', 'sqft_basement', 'yr_built', 'yr_renovated', 'zipcode',\n",
      "       'lat', 'long', 'sqft_living15', 'sqft_lot15'],\n",
      "      dtype='object')\n"
     ]
    }
   ],
   "source": [
    "print(\"shape of the data frame : {}\".format(df.shape))# ... number of rows and  columns \n",
    "print(\"name of columns :  {}\".format(df.columns)) # ... column names "
   ]
  },
  {
   "cell_type": "code",
   "execution_count": 65,
   "metadata": {
    "colab": {
     "base_uri": "https://localhost:8080/"
    },
    "id": "YmNeoBoGdL-2",
    "outputId": "d036b258-6c87-4d38-bd09-e0cdfe433114"
   },
   "outputs": [
    {
     "name": "stdout",
     "output_type": "stream",
     "text": [
      "<class 'pandas.core.frame.DataFrame'>\n",
      "RangeIndex: 21613 entries, 0 to 21612\n",
      "Data columns (total 21 columns):\n",
      " #   Column         Non-Null Count  Dtype  \n",
      "---  ------         --------------  -----  \n",
      " 0   id             21613 non-null  int64  \n",
      " 1   date           21613 non-null  object \n",
      " 2   price          21613 non-null  float64\n",
      " 3   bedrooms       21613 non-null  int64  \n",
      " 4   bathrooms      21613 non-null  float64\n",
      " 5   sqft_living    21613 non-null  int64  \n",
      " 6   sqft_lot       21613 non-null  int64  \n",
      " 7   floors         21613 non-null  float64\n",
      " 8   waterfront     21613 non-null  int64  \n",
      " 9   view           21613 non-null  int64  \n",
      " 10  condition      21613 non-null  int64  \n",
      " 11  grade          21613 non-null  int64  \n",
      " 12  sqft_above     21613 non-null  int64  \n",
      " 13  sqft_basement  21613 non-null  int64  \n",
      " 14  yr_built       21613 non-null  int64  \n",
      " 15  yr_renovated   21613 non-null  int64  \n",
      " 16  zipcode        21613 non-null  int64  \n",
      " 17  lat            21613 non-null  float64\n",
      " 18  long           21613 non-null  float64\n",
      " 19  sqft_living15  21613 non-null  int64  \n",
      " 20  sqft_lot15     21613 non-null  int64  \n",
      "dtypes: float64(5), int64(15), object(1)\n",
      "memory usage: 3.5+ MB\n"
     ]
    }
   ],
   "source": [
    "df.info() # ..... counting the number of non missing values in each column , col names and datatypes  \n",
    "# result. ..we can see that we dont have missing values and we need to change datatypes for certain columns "
   ]
  },
  {
   "cell_type": "markdown",
   "metadata": {
    "id": "f9-bgD_aSxb3"
   },
   "source": [
    "Describtion of the data \n",
    "\n",
    "1-   id - Unique ID for each home sold\n",
    "2-date - Date of the home sale\n",
    "3-price - Price of each home sold\n",
    "4-bedrooms - Number of bedrooms\n",
    "5-bathrooms - Number of bathrooms, where .5 accounts for a room with a toilet but no shower\n",
    "6-sqft_living - Square footage of the apartments interior living space\n",
    "7-sqft_lot - Square footage of the land space\n",
    "8-floors - Number of floors\n",
    "9-waterfront - A dummy variable for whether the apartment was overlooking the waterfront or not 1’s represent a waterfront property, 0’s represent a non-waterfront property\n",
    "10-view - An index from 0 to 4 of how good the view of the property was, 0 - lowest, 4 - highest\n",
    "11-condition - An index from 1 to 5 on the condition of the apartment, 1 - lowest, 4 - highest\n",
    "12-grade - An index from 1 to 13, where 1-3 falls short of building construction and design, 7 has an average level of construction and design, and 11-13 have a high quality level of construction and design.\n",
    "13-sqft_above - The square footage of the interior housing space that is above ground level\n",
    "14-sqft_basement - The square footage of the interior housing space that is below ground level\n",
    "15-yr_built - The year the house was initially built\n",
    "16-yr_renovated - The year of the house’s last renovation\n",
    "17-zipcode - What zipcode area the house is in\n",
    "18-lat - Lattitude\n",
    "19-long - Longitude\n",
    "20-sqft_living15 - The square footage of interior housing living space for the nearest 15 neighbors\n",
    "21-sqft_lot15 - The square footage of the land lots of the nearest 15 neighbors\n"
   ]
  },
  {
   "cell_type": "markdown",
   "metadata": {
    "id": "kNmSyFKsfFE-"
   },
   "source": [
    "#2- Cleaning and Validate the dataset "
   ]
  },
  {
   "cell_type": "markdown",
   "metadata": {
    "id": "cP-blih5fPcu"
   },
   "source": [
    "1-data types "
   ]
  },
  {
   "cell_type": "code",
   "execution_count": 66,
   "metadata": {
    "id": "uSQHHer8ejd3"
   },
   "outputs": [],
   "source": [
    "df[\"date\"]= pd.to_datetime(df[\"date\"]) # ... cahnging the date column from object to datetime \n",
    "df[[\"condition\",\"grade\",\"view\",\"waterfront\"]]=df[[\"condition\",\"grade\",\"view\",\"waterfront\"]].astype(\"category\")#... they have a finite set of element\n",
    "df[\"zipcode\"]=df[\"zipcode\"].astype(\"object\")"
   ]
  },
  {
   "cell_type": "code",
   "execution_count": 67,
   "metadata": {
    "colab": {
     "base_uri": "https://localhost:8080/"
    },
    "id": "qITLry9vfVxN",
    "outputId": "1ed04f02-bd79-4d6f-80ae-67da54a45d6a"
   },
   "outputs": [
    {
     "data": {
      "text/plain": [
       "id                        int64\n",
       "date             datetime64[ns]\n",
       "price                   float64\n",
       "bedrooms                  int64\n",
       "bathrooms               float64\n",
       "sqft_living               int64\n",
       "sqft_lot                  int64\n",
       "floors                  float64\n",
       "waterfront             category\n",
       "view                   category\n",
       "condition              category\n",
       "grade                  category\n",
       "sqft_above                int64\n",
       "sqft_basement             int64\n",
       "yr_built                  int64\n",
       "yr_renovated              int64\n",
       "zipcode                  object\n",
       "lat                     float64\n",
       "long                    float64\n",
       "sqft_living15             int64\n",
       "sqft_lot15                int64\n",
       "dtype: object"
      ]
     },
     "execution_count": 67,
     "metadata": {},
     "output_type": "execute_result"
    }
   ],
   "source": [
    "df.dtypes # .... check that apply the change "
   ]
  },
  {
   "cell_type": "markdown",
   "metadata": {
    "id": "2wFGrX5eiFUp"
   },
   "source": [
    "2- Checking missing values "
   ]
  },
  {
   "cell_type": "code",
   "execution_count": 68,
   "metadata": {
    "colab": {
     "base_uri": "https://localhost:8080/"
    },
    "id": "K4El-NyqhOwr",
    "outputId": "28ff873f-3bf2-4470-c912-ad5e94176d9a"
   },
   "outputs": [
    {
     "data": {
      "text/plain": [
       "id               0\n",
       "date             0\n",
       "price            0\n",
       "bedrooms         0\n",
       "bathrooms        0\n",
       "sqft_living      0\n",
       "sqft_lot         0\n",
       "floors           0\n",
       "waterfront       0\n",
       "view             0\n",
       "condition        0\n",
       "grade            0\n",
       "sqft_above       0\n",
       "sqft_basement    0\n",
       "yr_built         0\n",
       "yr_renovated     0\n",
       "zipcode          0\n",
       "lat              0\n",
       "long             0\n",
       "sqft_living15    0\n",
       "sqft_lot15       0\n",
       "dtype: int64"
      ]
     },
     "execution_count": 68,
     "metadata": {},
     "output_type": "execute_result"
    }
   ],
   "source": [
    "df.isnull().sum()#.... to check missing values in each column \n",
    "# there is no missing values"
   ]
  },
  {
   "cell_type": "markdown",
   "metadata": {
    "id": "CcApls7bifRz"
   },
   "source": [
    "3-duplicated values "
   ]
  },
  {
   "cell_type": "code",
   "execution_count": 69,
   "metadata": {
    "colab": {
     "base_uri": "https://localhost:8080/",
     "height": 661
    },
    "id": "XTZ54RsHiMsF",
    "outputId": "f77215a1-d9de-4492-e5cf-582df3ea7e55"
   },
   "outputs": [
    {
     "data": {
      "text/html": [
       "<div>\n",
       "<style scoped>\n",
       "    .dataframe tbody tr th:only-of-type {\n",
       "        vertical-align: middle;\n",
       "    }\n",
       "\n",
       "    .dataframe tbody tr th {\n",
       "        vertical-align: top;\n",
       "    }\n",
       "\n",
       "    .dataframe thead th {\n",
       "        text-align: right;\n",
       "    }\n",
       "</style>\n",
       "<table border=\"1\" class=\"dataframe\">\n",
       "  <thead>\n",
       "    <tr style=\"text-align: right;\">\n",
       "      <th></th>\n",
       "      <th>id</th>\n",
       "      <th>date</th>\n",
       "      <th>price</th>\n",
       "      <th>bedrooms</th>\n",
       "      <th>bathrooms</th>\n",
       "      <th>sqft_living</th>\n",
       "      <th>sqft_lot</th>\n",
       "      <th>floors</th>\n",
       "      <th>waterfront</th>\n",
       "      <th>view</th>\n",
       "      <th>...</th>\n",
       "      <th>grade</th>\n",
       "      <th>sqft_above</th>\n",
       "      <th>sqft_basement</th>\n",
       "      <th>yr_built</th>\n",
       "      <th>yr_renovated</th>\n",
       "      <th>zipcode</th>\n",
       "      <th>lat</th>\n",
       "      <th>long</th>\n",
       "      <th>sqft_living15</th>\n",
       "      <th>sqft_lot15</th>\n",
       "    </tr>\n",
       "  </thead>\n",
       "  <tbody>\n",
       "    <tr>\n",
       "      <th>93</th>\n",
       "      <td>6021501535</td>\n",
       "      <td>2014-07-25</td>\n",
       "      <td>430000.0</td>\n",
       "      <td>3</td>\n",
       "      <td>1.50</td>\n",
       "      <td>1580</td>\n",
       "      <td>5000</td>\n",
       "      <td>1.0</td>\n",
       "      <td>0</td>\n",
       "      <td>0</td>\n",
       "      <td>...</td>\n",
       "      <td>8</td>\n",
       "      <td>1290</td>\n",
       "      <td>290</td>\n",
       "      <td>1939</td>\n",
       "      <td>0</td>\n",
       "      <td>98117</td>\n",
       "      <td>47.6870</td>\n",
       "      <td>-122.386</td>\n",
       "      <td>1570</td>\n",
       "      <td>4500</td>\n",
       "    </tr>\n",
       "    <tr>\n",
       "      <th>94</th>\n",
       "      <td>6021501535</td>\n",
       "      <td>2014-12-23</td>\n",
       "      <td>700000.0</td>\n",
       "      <td>3</td>\n",
       "      <td>1.50</td>\n",
       "      <td>1580</td>\n",
       "      <td>5000</td>\n",
       "      <td>1.0</td>\n",
       "      <td>0</td>\n",
       "      <td>0</td>\n",
       "      <td>...</td>\n",
       "      <td>8</td>\n",
       "      <td>1290</td>\n",
       "      <td>290</td>\n",
       "      <td>1939</td>\n",
       "      <td>0</td>\n",
       "      <td>98117</td>\n",
       "      <td>47.6870</td>\n",
       "      <td>-122.386</td>\n",
       "      <td>1570</td>\n",
       "      <td>4500</td>\n",
       "    </tr>\n",
       "    <tr>\n",
       "      <th>313</th>\n",
       "      <td>4139480200</td>\n",
       "      <td>2014-06-18</td>\n",
       "      <td>1384000.0</td>\n",
       "      <td>4</td>\n",
       "      <td>3.25</td>\n",
       "      <td>4290</td>\n",
       "      <td>12103</td>\n",
       "      <td>1.0</td>\n",
       "      <td>0</td>\n",
       "      <td>3</td>\n",
       "      <td>...</td>\n",
       "      <td>11</td>\n",
       "      <td>2690</td>\n",
       "      <td>1600</td>\n",
       "      <td>1997</td>\n",
       "      <td>0</td>\n",
       "      <td>98006</td>\n",
       "      <td>47.5503</td>\n",
       "      <td>-122.102</td>\n",
       "      <td>3860</td>\n",
       "      <td>11244</td>\n",
       "    </tr>\n",
       "    <tr>\n",
       "      <th>314</th>\n",
       "      <td>4139480200</td>\n",
       "      <td>2014-12-09</td>\n",
       "      <td>1400000.0</td>\n",
       "      <td>4</td>\n",
       "      <td>3.25</td>\n",
       "      <td>4290</td>\n",
       "      <td>12103</td>\n",
       "      <td>1.0</td>\n",
       "      <td>0</td>\n",
       "      <td>3</td>\n",
       "      <td>...</td>\n",
       "      <td>11</td>\n",
       "      <td>2690</td>\n",
       "      <td>1600</td>\n",
       "      <td>1997</td>\n",
       "      <td>0</td>\n",
       "      <td>98006</td>\n",
       "      <td>47.5503</td>\n",
       "      <td>-122.102</td>\n",
       "      <td>3860</td>\n",
       "      <td>11244</td>\n",
       "    </tr>\n",
       "    <tr>\n",
       "      <th>324</th>\n",
       "      <td>7520000520</td>\n",
       "      <td>2014-09-05</td>\n",
       "      <td>232000.0</td>\n",
       "      <td>2</td>\n",
       "      <td>1.00</td>\n",
       "      <td>1240</td>\n",
       "      <td>12092</td>\n",
       "      <td>1.0</td>\n",
       "      <td>0</td>\n",
       "      <td>0</td>\n",
       "      <td>...</td>\n",
       "      <td>6</td>\n",
       "      <td>960</td>\n",
       "      <td>280</td>\n",
       "      <td>1922</td>\n",
       "      <td>1984</td>\n",
       "      <td>98146</td>\n",
       "      <td>47.4957</td>\n",
       "      <td>-122.352</td>\n",
       "      <td>1820</td>\n",
       "      <td>7460</td>\n",
       "    </tr>\n",
       "    <tr>\n",
       "      <th>...</th>\n",
       "      <td>...</td>\n",
       "      <td>...</td>\n",
       "      <td>...</td>\n",
       "      <td>...</td>\n",
       "      <td>...</td>\n",
       "      <td>...</td>\n",
       "      <td>...</td>\n",
       "      <td>...</td>\n",
       "      <td>...</td>\n",
       "      <td>...</td>\n",
       "      <td>...</td>\n",
       "      <td>...</td>\n",
       "      <td>...</td>\n",
       "      <td>...</td>\n",
       "      <td>...</td>\n",
       "      <td>...</td>\n",
       "      <td>...</td>\n",
       "      <td>...</td>\n",
       "      <td>...</td>\n",
       "      <td>...</td>\n",
       "      <td>...</td>\n",
       "    </tr>\n",
       "    <tr>\n",
       "      <th>20670</th>\n",
       "      <td>8564860270</td>\n",
       "      <td>2015-03-30</td>\n",
       "      <td>502000.0</td>\n",
       "      <td>4</td>\n",
       "      <td>2.50</td>\n",
       "      <td>2680</td>\n",
       "      <td>5539</td>\n",
       "      <td>2.0</td>\n",
       "      <td>0</td>\n",
       "      <td>0</td>\n",
       "      <td>...</td>\n",
       "      <td>8</td>\n",
       "      <td>2680</td>\n",
       "      <td>0</td>\n",
       "      <td>2013</td>\n",
       "      <td>0</td>\n",
       "      <td>98045</td>\n",
       "      <td>47.4759</td>\n",
       "      <td>-121.734</td>\n",
       "      <td>2680</td>\n",
       "      <td>5992</td>\n",
       "    </tr>\n",
       "    <tr>\n",
       "      <th>20779</th>\n",
       "      <td>6300000226</td>\n",
       "      <td>2014-06-26</td>\n",
       "      <td>240000.0</td>\n",
       "      <td>4</td>\n",
       "      <td>1.00</td>\n",
       "      <td>1200</td>\n",
       "      <td>2171</td>\n",
       "      <td>1.5</td>\n",
       "      <td>0</td>\n",
       "      <td>0</td>\n",
       "      <td>...</td>\n",
       "      <td>7</td>\n",
       "      <td>1200</td>\n",
       "      <td>0</td>\n",
       "      <td>1933</td>\n",
       "      <td>0</td>\n",
       "      <td>98133</td>\n",
       "      <td>47.7076</td>\n",
       "      <td>-122.342</td>\n",
       "      <td>1130</td>\n",
       "      <td>1598</td>\n",
       "    </tr>\n",
       "    <tr>\n",
       "      <th>20780</th>\n",
       "      <td>6300000226</td>\n",
       "      <td>2015-05-04</td>\n",
       "      <td>380000.0</td>\n",
       "      <td>4</td>\n",
       "      <td>1.00</td>\n",
       "      <td>1200</td>\n",
       "      <td>2171</td>\n",
       "      <td>1.5</td>\n",
       "      <td>0</td>\n",
       "      <td>0</td>\n",
       "      <td>...</td>\n",
       "      <td>7</td>\n",
       "      <td>1200</td>\n",
       "      <td>0</td>\n",
       "      <td>1933</td>\n",
       "      <td>0</td>\n",
       "      <td>98133</td>\n",
       "      <td>47.7076</td>\n",
       "      <td>-122.342</td>\n",
       "      <td>1130</td>\n",
       "      <td>1598</td>\n",
       "    </tr>\n",
       "    <tr>\n",
       "      <th>21580</th>\n",
       "      <td>7853420110</td>\n",
       "      <td>2014-10-03</td>\n",
       "      <td>594866.0</td>\n",
       "      <td>3</td>\n",
       "      <td>3.00</td>\n",
       "      <td>2780</td>\n",
       "      <td>6000</td>\n",
       "      <td>2.0</td>\n",
       "      <td>0</td>\n",
       "      <td>0</td>\n",
       "      <td>...</td>\n",
       "      <td>9</td>\n",
       "      <td>2780</td>\n",
       "      <td>0</td>\n",
       "      <td>2013</td>\n",
       "      <td>0</td>\n",
       "      <td>98065</td>\n",
       "      <td>47.5184</td>\n",
       "      <td>-121.886</td>\n",
       "      <td>2850</td>\n",
       "      <td>6000</td>\n",
       "    </tr>\n",
       "    <tr>\n",
       "      <th>21581</th>\n",
       "      <td>7853420110</td>\n",
       "      <td>2015-05-04</td>\n",
       "      <td>625000.0</td>\n",
       "      <td>3</td>\n",
       "      <td>3.00</td>\n",
       "      <td>2780</td>\n",
       "      <td>6000</td>\n",
       "      <td>2.0</td>\n",
       "      <td>0</td>\n",
       "      <td>0</td>\n",
       "      <td>...</td>\n",
       "      <td>9</td>\n",
       "      <td>2780</td>\n",
       "      <td>0</td>\n",
       "      <td>2013</td>\n",
       "      <td>0</td>\n",
       "      <td>98065</td>\n",
       "      <td>47.5184</td>\n",
       "      <td>-121.886</td>\n",
       "      <td>2850</td>\n",
       "      <td>6000</td>\n",
       "    </tr>\n",
       "  </tbody>\n",
       "</table>\n",
       "<p>353 rows × 21 columns</p>\n",
       "</div>"
      ],
      "text/plain": [
       "               id       date      price  bedrooms  bathrooms  sqft_living  \\\n",
       "93     6021501535 2014-07-25   430000.0         3       1.50         1580   \n",
       "94     6021501535 2014-12-23   700000.0         3       1.50         1580   \n",
       "313    4139480200 2014-06-18  1384000.0         4       3.25         4290   \n",
       "314    4139480200 2014-12-09  1400000.0         4       3.25         4290   \n",
       "324    7520000520 2014-09-05   232000.0         2       1.00         1240   \n",
       "...           ...        ...        ...       ...        ...          ...   \n",
       "20670  8564860270 2015-03-30   502000.0         4       2.50         2680   \n",
       "20779  6300000226 2014-06-26   240000.0         4       1.00         1200   \n",
       "20780  6300000226 2015-05-04   380000.0         4       1.00         1200   \n",
       "21580  7853420110 2014-10-03   594866.0         3       3.00         2780   \n",
       "21581  7853420110 2015-05-04   625000.0         3       3.00         2780   \n",
       "\n",
       "       sqft_lot  floors waterfront view  ... grade sqft_above  sqft_basement  \\\n",
       "93         5000     1.0          0    0  ...     8       1290            290   \n",
       "94         5000     1.0          0    0  ...     8       1290            290   \n",
       "313       12103     1.0          0    3  ...    11       2690           1600   \n",
       "314       12103     1.0          0    3  ...    11       2690           1600   \n",
       "324       12092     1.0          0    0  ...     6        960            280   \n",
       "...         ...     ...        ...  ...  ...   ...        ...            ...   \n",
       "20670      5539     2.0          0    0  ...     8       2680              0   \n",
       "20779      2171     1.5          0    0  ...     7       1200              0   \n",
       "20780      2171     1.5          0    0  ...     7       1200              0   \n",
       "21580      6000     2.0          0    0  ...     9       2780              0   \n",
       "21581      6000     2.0          0    0  ...     9       2780              0   \n",
       "\n",
       "       yr_built  yr_renovated  zipcode      lat     long  sqft_living15  \\\n",
       "93         1939             0    98117  47.6870 -122.386           1570   \n",
       "94         1939             0    98117  47.6870 -122.386           1570   \n",
       "313        1997             0    98006  47.5503 -122.102           3860   \n",
       "314        1997             0    98006  47.5503 -122.102           3860   \n",
       "324        1922          1984    98146  47.4957 -122.352           1820   \n",
       "...         ...           ...      ...      ...      ...            ...   \n",
       "20670      2013             0    98045  47.4759 -121.734           2680   \n",
       "20779      1933             0    98133  47.7076 -122.342           1130   \n",
       "20780      1933             0    98133  47.7076 -122.342           1130   \n",
       "21580      2013             0    98065  47.5184 -121.886           2850   \n",
       "21581      2013             0    98065  47.5184 -121.886           2850   \n",
       "\n",
       "       sqft_lot15  \n",
       "93           4500  \n",
       "94           4500  \n",
       "313         11244  \n",
       "314         11244  \n",
       "324          7460  \n",
       "...           ...  \n",
       "20670        5992  \n",
       "20779        1598  \n",
       "20780        1598  \n",
       "21580        6000  \n",
       "21581        6000  \n",
       "\n",
       "[353 rows x 21 columns]"
      ]
     },
     "execution_count": 69,
     "metadata": {},
     "output_type": "execute_result"
    }
   ],
   "source": [
    "dup =df.duplicated(subset= [\"id\"] ,keep=False)#...creating false /true series to see duplicated values \n",
    "dup_df=df[dup] #.. converting the series to df \n",
    "dup_df#. ..There are duplicated values to be investigated\n"
   ]
  },
  {
   "cell_type": "code",
   "execution_count": 70,
   "metadata": {
    "colab": {
     "base_uri": "https://localhost:8080/"
    },
    "id": "KR0txsiTit4t",
    "outputId": "dbf9df5d-3fad-4df0-c38c-6ddf422f12d2"
   },
   "outputs": [
    {
     "name": "stdout",
     "output_type": "stream",
     "text": [
      "# of houses that are sold twice are (176,) \n"
     ]
    }
   ],
   "source": [
    "# There are some houses that are sold twice in different date or price \n",
    "print( \"# of houses that are sold twice are {} \".format(dup_df.id.unique().shape))\n",
    "dup_df[[\"id\",\"price\", \"date\"]]#...columns changes \n",
    "dup_df_price_id=dup_df[dup_df.duplicated(subset=[\"id\",\"price\"],keep=False)].sort_values(\"price\")\n",
    "#... checking the houses that are sold twice with no price change\n",
    "dup_df_price_id\n",
    "#...checking if we need to delete them \n",
    "df=df.drop_duplicates(subset=[\"id\",\"price\"]) #..deleting the duplicated values (3 rows)\n",
    "#df"
   ]
  },
  {
   "cell_type": "markdown",
   "metadata": {
    "id": "cED9ZtL0pgsM"
   },
   "source": [
    "4- validate the date "
   ]
  },
  {
   "cell_type": "code",
   "execution_count": 71,
   "metadata": {
    "colab": {
     "base_uri": "https://localhost:8080/",
     "height": 143
    },
    "id": "NQI7xrJQmPWC",
    "outputId": "948a1546-d5c2-45d3-a755-ba0675fc5f1b"
   },
   "outputs": [
    {
     "data": {
      "text/html": [
       "<div>\n",
       "<style scoped>\n",
       "    .dataframe tbody tr th:only-of-type {\n",
       "        vertical-align: middle;\n",
       "    }\n",
       "\n",
       "    .dataframe tbody tr th {\n",
       "        vertical-align: top;\n",
       "    }\n",
       "\n",
       "    .dataframe thead th {\n",
       "        text-align: right;\n",
       "    }\n",
       "</style>\n",
       "<table border=\"1\" class=\"dataframe\">\n",
       "  <thead>\n",
       "    <tr style=\"text-align: right;\">\n",
       "      <th></th>\n",
       "      <th>id</th>\n",
       "      <th>date</th>\n",
       "      <th>price</th>\n",
       "      <th>bedrooms</th>\n",
       "      <th>bathrooms</th>\n",
       "      <th>sqft_living</th>\n",
       "      <th>sqft_lot</th>\n",
       "      <th>floors</th>\n",
       "      <th>waterfront</th>\n",
       "      <th>view</th>\n",
       "      <th>...</th>\n",
       "      <th>grade</th>\n",
       "      <th>sqft_above</th>\n",
       "      <th>sqft_basement</th>\n",
       "      <th>yr_built</th>\n",
       "      <th>yr_renovated</th>\n",
       "      <th>zipcode</th>\n",
       "      <th>lat</th>\n",
       "      <th>long</th>\n",
       "      <th>sqft_living15</th>\n",
       "      <th>sqft_lot15</th>\n",
       "    </tr>\n",
       "  </thead>\n",
       "  <tbody>\n",
       "  </tbody>\n",
       "</table>\n",
       "<p>0 rows × 21 columns</p>\n",
       "</div>"
      ],
      "text/plain": [
       "Empty DataFrame\n",
       "Columns: [id, date, price, bedrooms, bathrooms, sqft_living, sqft_lot, floors, waterfront, view, condition, grade, sqft_above, sqft_basement, yr_built, yr_renovated, zipcode, lat, long, sqft_living15, sqft_lot15]\n",
       "Index: []\n",
       "\n",
       "[0 rows x 21 columns]"
      ]
     },
     "execution_count": 71,
     "metadata": {},
     "output_type": "execute_result"
    }
   ],
   "source": [
    "# By understanding the data, the sqft_above + sqft_basement = sqft_living \n",
    "# schecking if that applies on all values \n",
    "sum = df[[\"sqft_above\" , \"sqft_basement\"]].sum(axis=1)#...calculating the sum from the two columns\n",
    "mask=sum==df[\"sqft_living\"]#...creating a series that has True if the condition is true \n",
    "df[~mask]#..... Filtering our data Frame to see the False result ( did not meet the condition) by using ~ \n",
    "#There is no row that doesnt meet the condition so we can trust our data more  "
   ]
  },
  {
   "cell_type": "markdown",
   "metadata": {
    "id": "36c3QNSqs_ZU"
   },
   "source": [
    "5- checking inconsistency in categorical/discrete columns by using .value_counts() and bar plot"
   ]
  },
  {
   "cell_type": "markdown",
   "metadata": {
    "id": "ZQYok1cWtoaa"
   },
   "source": [
    "  a-bedrooms"
   ]
  },
  {
   "cell_type": "code",
   "execution_count": 72,
   "metadata": {
    "colab": {
     "base_uri": "https://localhost:8080/",
     "height": 285
    },
    "id": "OyVDtsgHqSC2",
    "outputId": "25d91441-2b4f-4153-a85f-db55c2a65cd0"
   },
   "outputs": [
    {
     "data": {
      "text/plain": [
       "<Axes: xlabel='bedrooms'>"
      ]
     },
     "execution_count": 72,
     "metadata": {},
     "output_type": "execute_result"
    },
    {
     "data": {
      "image/png": "[encoded data removed]",
      "text/plain": [
       "<Figure size 640x480 with 1 Axes>"
      ]
     },
     "metadata": {},
     "output_type": "display_data"
    }
   ],
   "source": [
    "df[\"bedrooms\"].value_counts(sorted).plot(kind=\"bar\")#... we can see that 33 is so far from other dataset \n",
    "# but first lets try to understand if this is possible or not depending on the other factor "
   ]
  },
  {
   "cell_type": "code",
   "execution_count": 73,
   "metadata": {
    "colab": {
     "base_uri": "https://localhost:8080/"
    },
    "id": "JFSLDD-qsyBN",
    "outputId": "87d0706a-5730-4979-df67-02a6007584a5"
   },
   "outputs": [
    {
     "data": {
      "text/plain": [
       "bedrooms\n",
       "3     9822\n",
       "4     6881\n",
       "2     2760\n",
       "5     1601\n",
       "6      272\n",
       "1      199\n",
       "7       38\n",
       "0       13\n",
       "8       13\n",
       "9        6\n",
       "10       3\n",
       "11       1\n",
       "Name: count, dtype: int64"
      ]
     },
     "execution_count": 73,
     "metadata": {},
     "output_type": "execute_result"
    }
   ],
   "source": [
    "df_bedroom_33=df[df[\"bedrooms\"]==33]\n",
    "df_bedroom_33\n",
    "# we can see that this column doesnt make any sense so we will delete it \n",
    "df=df.drop(df_bedroom_33.index)#.. drop the index\n",
    "df.bedrooms.value_counts()#..to check if the column has been deleted"
   ]
  },
  {
   "cell_type": "code",
   "execution_count": 74,
   "metadata": {
    "colab": {
     "base_uri": "https://localhost:8080/",
     "height": 776
    },
    "id": "RUDTUg8Uu2um",
    "outputId": "2cc3ceb9-db9a-4830-a736-7ff8cb0c50bc"
   },
   "outputs": [
    {
     "data": {
      "text/html": [
       "<div>\n",
       "<style scoped>\n",
       "    .dataframe tbody tr th:only-of-type {\n",
       "        vertical-align: middle;\n",
       "    }\n",
       "\n",
       "    .dataframe tbody tr th {\n",
       "        vertical-align: top;\n",
       "    }\n",
       "\n",
       "    .dataframe thead th {\n",
       "        text-align: right;\n",
       "    }\n",
       "</style>\n",
       "<table border=\"1\" class=\"dataframe\">\n",
       "  <thead>\n",
       "    <tr style=\"text-align: right;\">\n",
       "      <th></th>\n",
       "      <th>id</th>\n",
       "      <th>date</th>\n",
       "      <th>price</th>\n",
       "      <th>bedrooms</th>\n",
       "      <th>bathrooms</th>\n",
       "      <th>sqft_living</th>\n",
       "      <th>sqft_lot</th>\n",
       "      <th>floors</th>\n",
       "      <th>waterfront</th>\n",
       "      <th>view</th>\n",
       "      <th>...</th>\n",
       "      <th>grade</th>\n",
       "      <th>sqft_above</th>\n",
       "      <th>sqft_basement</th>\n",
       "      <th>yr_built</th>\n",
       "      <th>yr_renovated</th>\n",
       "      <th>zipcode</th>\n",
       "      <th>lat</th>\n",
       "      <th>long</th>\n",
       "      <th>sqft_living15</th>\n",
       "      <th>sqft_lot15</th>\n",
       "    </tr>\n",
       "  </thead>\n",
       "  <tbody>\n",
       "    <tr>\n",
       "      <th>875</th>\n",
       "      <td>6306400140</td>\n",
       "      <td>2014-06-12</td>\n",
       "      <td>1095000.0</td>\n",
       "      <td>0</td>\n",
       "      <td>0.00</td>\n",
       "      <td>3064</td>\n",
       "      <td>4764</td>\n",
       "      <td>3.5</td>\n",
       "      <td>0</td>\n",
       "      <td>2</td>\n",
       "      <td>...</td>\n",
       "      <td>7</td>\n",
       "      <td>3064</td>\n",
       "      <td>0</td>\n",
       "      <td>1990</td>\n",
       "      <td>0</td>\n",
       "      <td>98102</td>\n",
       "      <td>47.6362</td>\n",
       "      <td>-122.322</td>\n",
       "      <td>2360</td>\n",
       "      <td>4000</td>\n",
       "    </tr>\n",
       "    <tr>\n",
       "      <th>3119</th>\n",
       "      <td>3918400017</td>\n",
       "      <td>2015-02-05</td>\n",
       "      <td>380000.0</td>\n",
       "      <td>0</td>\n",
       "      <td>0.00</td>\n",
       "      <td>1470</td>\n",
       "      <td>979</td>\n",
       "      <td>3.0</td>\n",
       "      <td>0</td>\n",
       "      <td>2</td>\n",
       "      <td>...</td>\n",
       "      <td>8</td>\n",
       "      <td>1470</td>\n",
       "      <td>0</td>\n",
       "      <td>2006</td>\n",
       "      <td>0</td>\n",
       "      <td>98133</td>\n",
       "      <td>47.7145</td>\n",
       "      <td>-122.356</td>\n",
       "      <td>1470</td>\n",
       "      <td>1399</td>\n",
       "    </tr>\n",
       "    <tr>\n",
       "      <th>3467</th>\n",
       "      <td>1453602309</td>\n",
       "      <td>2014-08-05</td>\n",
       "      <td>288000.0</td>\n",
       "      <td>0</td>\n",
       "      <td>1.50</td>\n",
       "      <td>1430</td>\n",
       "      <td>1650</td>\n",
       "      <td>3.0</td>\n",
       "      <td>0</td>\n",
       "      <td>0</td>\n",
       "      <td>...</td>\n",
       "      <td>7</td>\n",
       "      <td>1430</td>\n",
       "      <td>0</td>\n",
       "      <td>1999</td>\n",
       "      <td>0</td>\n",
       "      <td>98125</td>\n",
       "      <td>47.7222</td>\n",
       "      <td>-122.290</td>\n",
       "      <td>1430</td>\n",
       "      <td>1650</td>\n",
       "    </tr>\n",
       "    <tr>\n",
       "      <th>4868</th>\n",
       "      <td>6896300380</td>\n",
       "      <td>2014-10-02</td>\n",
       "      <td>228000.0</td>\n",
       "      <td>0</td>\n",
       "      <td>1.00</td>\n",
       "      <td>390</td>\n",
       "      <td>5900</td>\n",
       "      <td>1.0</td>\n",
       "      <td>0</td>\n",
       "      <td>0</td>\n",
       "      <td>...</td>\n",
       "      <td>4</td>\n",
       "      <td>390</td>\n",
       "      <td>0</td>\n",
       "      <td>1953</td>\n",
       "      <td>0</td>\n",
       "      <td>98118</td>\n",
       "      <td>47.5260</td>\n",
       "      <td>-122.261</td>\n",
       "      <td>2170</td>\n",
       "      <td>6000</td>\n",
       "    </tr>\n",
       "    <tr>\n",
       "      <th>6994</th>\n",
       "      <td>2954400190</td>\n",
       "      <td>2014-06-24</td>\n",
       "      <td>1295650.0</td>\n",
       "      <td>0</td>\n",
       "      <td>0.00</td>\n",
       "      <td>4810</td>\n",
       "      <td>28008</td>\n",
       "      <td>2.0</td>\n",
       "      <td>0</td>\n",
       "      <td>0</td>\n",
       "      <td>...</td>\n",
       "      <td>12</td>\n",
       "      <td>4810</td>\n",
       "      <td>0</td>\n",
       "      <td>1990</td>\n",
       "      <td>0</td>\n",
       "      <td>98053</td>\n",
       "      <td>47.6642</td>\n",
       "      <td>-122.069</td>\n",
       "      <td>4740</td>\n",
       "      <td>35061</td>\n",
       "    </tr>\n",
       "    <tr>\n",
       "      <th>8477</th>\n",
       "      <td>2569500210</td>\n",
       "      <td>2014-11-17</td>\n",
       "      <td>339950.0</td>\n",
       "      <td>0</td>\n",
       "      <td>2.50</td>\n",
       "      <td>2290</td>\n",
       "      <td>8319</td>\n",
       "      <td>2.0</td>\n",
       "      <td>0</td>\n",
       "      <td>0</td>\n",
       "      <td>...</td>\n",
       "      <td>8</td>\n",
       "      <td>2290</td>\n",
       "      <td>0</td>\n",
       "      <td>1985</td>\n",
       "      <td>0</td>\n",
       "      <td>98042</td>\n",
       "      <td>47.3473</td>\n",
       "      <td>-122.151</td>\n",
       "      <td>2500</td>\n",
       "      <td>8751</td>\n",
       "    </tr>\n",
       "    <tr>\n",
       "      <th>8484</th>\n",
       "      <td>2310060040</td>\n",
       "      <td>2014-09-25</td>\n",
       "      <td>240000.0</td>\n",
       "      <td>0</td>\n",
       "      <td>2.50</td>\n",
       "      <td>1810</td>\n",
       "      <td>5669</td>\n",
       "      <td>2.0</td>\n",
       "      <td>0</td>\n",
       "      <td>0</td>\n",
       "      <td>...</td>\n",
       "      <td>7</td>\n",
       "      <td>1810</td>\n",
       "      <td>0</td>\n",
       "      <td>2003</td>\n",
       "      <td>0</td>\n",
       "      <td>98038</td>\n",
       "      <td>47.3493</td>\n",
       "      <td>-122.053</td>\n",
       "      <td>1810</td>\n",
       "      <td>5685</td>\n",
       "    </tr>\n",
       "    <tr>\n",
       "      <th>9773</th>\n",
       "      <td>3374500520</td>\n",
       "      <td>2015-04-29</td>\n",
       "      <td>355000.0</td>\n",
       "      <td>0</td>\n",
       "      <td>0.00</td>\n",
       "      <td>2460</td>\n",
       "      <td>8049</td>\n",
       "      <td>2.0</td>\n",
       "      <td>0</td>\n",
       "      <td>0</td>\n",
       "      <td>...</td>\n",
       "      <td>8</td>\n",
       "      <td>2460</td>\n",
       "      <td>0</td>\n",
       "      <td>1990</td>\n",
       "      <td>0</td>\n",
       "      <td>98031</td>\n",
       "      <td>47.4095</td>\n",
       "      <td>-122.168</td>\n",
       "      <td>2520</td>\n",
       "      <td>8050</td>\n",
       "    </tr>\n",
       "    <tr>\n",
       "      <th>9854</th>\n",
       "      <td>7849202190</td>\n",
       "      <td>2014-12-23</td>\n",
       "      <td>235000.0</td>\n",
       "      <td>0</td>\n",
       "      <td>0.00</td>\n",
       "      <td>1470</td>\n",
       "      <td>4800</td>\n",
       "      <td>2.0</td>\n",
       "      <td>0</td>\n",
       "      <td>0</td>\n",
       "      <td>...</td>\n",
       "      <td>7</td>\n",
       "      <td>1470</td>\n",
       "      <td>0</td>\n",
       "      <td>1996</td>\n",
       "      <td>0</td>\n",
       "      <td>98065</td>\n",
       "      <td>47.5265</td>\n",
       "      <td>-121.828</td>\n",
       "      <td>1060</td>\n",
       "      <td>7200</td>\n",
       "    </tr>\n",
       "    <tr>\n",
       "      <th>12653</th>\n",
       "      <td>7849202299</td>\n",
       "      <td>2015-02-18</td>\n",
       "      <td>320000.0</td>\n",
       "      <td>0</td>\n",
       "      <td>2.50</td>\n",
       "      <td>1490</td>\n",
       "      <td>7111</td>\n",
       "      <td>2.0</td>\n",
       "      <td>0</td>\n",
       "      <td>0</td>\n",
       "      <td>...</td>\n",
       "      <td>7</td>\n",
       "      <td>1490</td>\n",
       "      <td>0</td>\n",
       "      <td>1999</td>\n",
       "      <td>0</td>\n",
       "      <td>98065</td>\n",
       "      <td>47.5261</td>\n",
       "      <td>-121.826</td>\n",
       "      <td>1500</td>\n",
       "      <td>4675</td>\n",
       "    </tr>\n",
       "    <tr>\n",
       "      <th>14423</th>\n",
       "      <td>9543000205</td>\n",
       "      <td>2015-04-13</td>\n",
       "      <td>139950.0</td>\n",
       "      <td>0</td>\n",
       "      <td>0.00</td>\n",
       "      <td>844</td>\n",
       "      <td>4269</td>\n",
       "      <td>1.0</td>\n",
       "      <td>0</td>\n",
       "      <td>0</td>\n",
       "      <td>...</td>\n",
       "      <td>7</td>\n",
       "      <td>844</td>\n",
       "      <td>0</td>\n",
       "      <td>1913</td>\n",
       "      <td>0</td>\n",
       "      <td>98001</td>\n",
       "      <td>47.2781</td>\n",
       "      <td>-122.250</td>\n",
       "      <td>1380</td>\n",
       "      <td>9600</td>\n",
       "    </tr>\n",
       "    <tr>\n",
       "      <th>18379</th>\n",
       "      <td>1222029077</td>\n",
       "      <td>2014-10-29</td>\n",
       "      <td>265000.0</td>\n",
       "      <td>0</td>\n",
       "      <td>0.75</td>\n",
       "      <td>384</td>\n",
       "      <td>213444</td>\n",
       "      <td>1.0</td>\n",
       "      <td>0</td>\n",
       "      <td>0</td>\n",
       "      <td>...</td>\n",
       "      <td>4</td>\n",
       "      <td>384</td>\n",
       "      <td>0</td>\n",
       "      <td>2003</td>\n",
       "      <td>0</td>\n",
       "      <td>98070</td>\n",
       "      <td>47.4177</td>\n",
       "      <td>-122.491</td>\n",
       "      <td>1920</td>\n",
       "      <td>224341</td>\n",
       "    </tr>\n",
       "    <tr>\n",
       "      <th>19452</th>\n",
       "      <td>3980300371</td>\n",
       "      <td>2014-09-26</td>\n",
       "      <td>142000.0</td>\n",
       "      <td>0</td>\n",
       "      <td>0.00</td>\n",
       "      <td>290</td>\n",
       "      <td>20875</td>\n",
       "      <td>1.0</td>\n",
       "      <td>0</td>\n",
       "      <td>0</td>\n",
       "      <td>...</td>\n",
       "      <td>1</td>\n",
       "      <td>290</td>\n",
       "      <td>0</td>\n",
       "      <td>1963</td>\n",
       "      <td>0</td>\n",
       "      <td>98024</td>\n",
       "      <td>47.5308</td>\n",
       "      <td>-121.888</td>\n",
       "      <td>1620</td>\n",
       "      <td>22850</td>\n",
       "    </tr>\n",
       "  </tbody>\n",
       "</table>\n",
       "<p>13 rows × 21 columns</p>\n",
       "</div>"
      ],
      "text/plain": [
       "               id       date      price  bedrooms  bathrooms  sqft_living  \\\n",
       "875    6306400140 2014-06-12  1095000.0         0       0.00         3064   \n",
       "3119   3918400017 2015-02-05   380000.0         0       0.00         1470   \n",
       "3467   1453602309 2014-08-05   288000.0         0       1.50         1430   \n",
       "4868   6896300380 2014-10-02   228000.0         0       1.00          390   \n",
       "6994   2954400190 2014-06-24  1295650.0         0       0.00         4810   \n",
       "8477   2569500210 2014-11-17   339950.0         0       2.50         2290   \n",
       "8484   2310060040 2014-09-25   240000.0         0       2.50         1810   \n",
       "9773   3374500520 2015-04-29   355000.0         0       0.00         2460   \n",
       "9854   7849202190 2014-12-23   235000.0         0       0.00         1470   \n",
       "12653  7849202299 2015-02-18   320000.0         0       2.50         1490   \n",
       "14423  9543000205 2015-04-13   139950.0         0       0.00          844   \n",
       "18379  1222029077 2014-10-29   265000.0         0       0.75          384   \n",
       "19452  3980300371 2014-09-26   142000.0         0       0.00          290   \n",
       "\n",
       "       sqft_lot  floors waterfront view  ... grade sqft_above  sqft_basement  \\\n",
       "875        4764     3.5          0    2  ...     7       3064              0   \n",
       "3119        979     3.0          0    2  ...     8       1470              0   \n",
       "3467       1650     3.0          0    0  ...     7       1430              0   \n",
       "4868       5900     1.0          0    0  ...     4        390              0   \n",
       "6994      28008     2.0          0    0  ...    12       4810              0   \n",
       "8477       8319     2.0          0    0  ...     8       2290              0   \n",
       "8484       5669     2.0          0    0  ...     7       1810              0   \n",
       "9773       8049     2.0          0    0  ...     8       2460              0   \n",
       "9854       4800     2.0          0    0  ...     7       1470              0   \n",
       "12653      7111     2.0          0    0  ...     7       1490              0   \n",
       "14423      4269     1.0          0    0  ...     7        844              0   \n",
       "18379    213444     1.0          0    0  ...     4        384              0   \n",
       "19452     20875     1.0          0    0  ...     1        290              0   \n",
       "\n",
       "       yr_built  yr_renovated  zipcode      lat     long  sqft_living15  \\\n",
       "875        1990             0    98102  47.6362 -122.322           2360   \n",
       "3119       2006             0    98133  47.7145 -122.356           1470   \n",
       "3467       1999             0    98125  47.7222 -122.290           1430   \n",
       "4868       1953             0    98118  47.5260 -122.261           2170   \n",
       "6994       1990             0    98053  47.6642 -122.069           4740   \n",
       "8477       1985             0    98042  47.3473 -122.151           2500   \n",
       "8484       2003             0    98038  47.3493 -122.053           1810   \n",
       "9773       1990             0    98031  47.4095 -122.168           2520   \n",
       "9854       1996             0    98065  47.5265 -121.828           1060   \n",
       "12653      1999             0    98065  47.5261 -121.826           1500   \n",
       "14423      1913             0    98001  47.2781 -122.250           1380   \n",
       "18379      2003             0    98070  47.4177 -122.491           1920   \n",
       "19452      1963             0    98024  47.5308 -121.888           1620   \n",
       "\n",
       "       sqft_lot15  \n",
       "875          4000  \n",
       "3119         1399  \n",
       "3467         1650  \n",
       "4868         6000  \n",
       "6994        35061  \n",
       "8477         8751  \n",
       "8484         5685  \n",
       "9773         8050  \n",
       "9854         7200  \n",
       "12653        4675  \n",
       "14423        9600  \n",
       "18379      224341  \n",
       "19452       22850  \n",
       "\n",
       "[13 rows x 21 columns]"
      ]
     },
     "execution_count": 74,
     "metadata": {},
     "output_type": "execute_result"
    }
   ],
   "source": [
    "df_bedroom_0=df[df[\"bedrooms\"]==0]\n",
    "df_bedroom_0# ... we cant have houses with 0 bedrooms"
   ]
  },
  {
   "cell_type": "code",
   "execution_count": 75,
   "metadata": {
    "colab": {
     "base_uri": "https://localhost:8080/",
     "height": 301
    },
    "id": "06bbgpJ1u2a8",
    "outputId": "6cd36882-42e5-4ea0-b997-110f17ca37fc"
   },
   "outputs": [
    {
     "data": {
      "text/plain": [
       "Text(0.5, 1.0, '#of bed rooms')"
      ]
     },
     "execution_count": 75,
     "metadata": {},
     "output_type": "execute_result"
    },
    {
     "data": {
      "image/png": "[encoded data removed]",
      "text/plain": [
       "<Figure size 640x480 with 1 Axes>"
      ]
     },
     "metadata": {},
     "output_type": "display_data"
    }
   ],
   "source": [
    "(len(df_bedroom_0)/len(df))*100 # ...we see only we have 0.06% so we can delete them \n",
    "df=df.drop(df_bedroom_0.index)\n",
    "df[\"bedrooms\"].value_counts().sort_index().plot(kind=\"bar\")\n",
    "plt.title(\"#of bed rooms\")"
   ]
  },
  {
   "cell_type": "markdown",
   "metadata": {
    "id": "-S_cVIklyYra"
   },
   "source": [
    "b-waterfront and view"
   ]
  },
  {
   "cell_type": "code",
   "execution_count": 76,
   "metadata": {
    "colab": {
     "base_uri": "https://localhost:8080/"
    },
    "id": "V8ZqJEYSu2QO",
    "outputId": "4fe556c2-9a6a-4319-f6e4-c43713bfa7f1"
   },
   "outputs": [
    {
     "data": {
      "text/plain": [
       "waterfront\n",
       "0    0.992452\n",
       "1    0.007548\n",
       "Name: proportion, dtype: float64"
      ]
     },
     "execution_count": 76,
     "metadata": {},
     "output_type": "execute_result"
    }
   ],
   "source": [
    "df[\"waterfront\"].value_counts(normalize=True) \n",
    "# only 0 and 1 ... bun we can conclude that nearly 99% from our houses don't have waterfront "
   ]
  },
  {
   "cell_type": "code",
   "execution_count": 77,
   "metadata": {
    "colab": {
     "base_uri": "https://localhost:8080/"
    },
    "id": "gdJ3nnTNtwyp",
    "outputId": "ef67103b-a258-4061-a277-0bd7f2622cf8"
   },
   "outputs": [
    {
     "data": {
      "text/plain": [
       "view\n",
       "0    0.901787\n",
       "2    0.044499\n",
       "3    0.023569\n",
       "1    0.015373\n",
       "4    0.014771\n",
       "Name: proportion, dtype: float64"
      ]
     },
     "execution_count": 77,
     "metadata": {},
     "output_type": "execute_result"
    }
   ],
   "source": [
    "df[\"view\"].value_counts(normalize=True) \n",
    "# like discribtion .. only wwe have from one to four rank but we can see that nearly 90% has very poor view "
   ]
  },
  {
   "cell_type": "markdown",
   "metadata": {
    "id": "0QLhB9vez_b6"
   },
   "source": [
    "3-condition and grade "
   ]
  },
  {
   "cell_type": "code",
   "execution_count": 78,
   "metadata": {
    "colab": {
     "base_uri": "https://localhost:8080/",
     "height": 285
    },
    "id": "6OfQYgNruYn-",
    "outputId": "35ce01ae-2252-4979-de7b-fe8cb8dc33c2"
   },
   "outputs": [
    {
     "data": {
      "text/plain": [
       "<Axes: xlabel='grade'>"
      ]
     },
     "execution_count": 78,
     "metadata": {},
     "output_type": "execute_result"
    },
    {
     "data": {
      "image/png": "[encoded data removed]",
      "text/plain": [
       "<Figure size 640x480 with 1 Axes>"
      ]
     },
     "metadata": {},
     "output_type": "display_data"
    }
   ],
   "source": [
    "df[\"grade\"].value_counts(normalize=True).sort_index().plot(kind=\"bar\")\n",
    "#we can see that grade is on the rangefor (1-13) .Also , we can see that most building has  an average level of construction and design"
   ]
  },
  {
   "cell_type": "code",
   "execution_count": 79,
   "metadata": {
    "colab": {
     "base_uri": "https://localhost:8080/",
     "height": 279
    },
    "id": "DBAcNPXL0TuO",
    "outputId": "bb1a97c5-503b-496f-c176-4054ae0e8858"
   },
   "outputs": [
    {
     "data": {
      "text/plain": [
       "<Axes: xlabel='condition'>"
      ]
     },
     "execution_count": 79,
     "metadata": {},
     "output_type": "execute_result"
    },
    {
     "data": {
      "image/png": "[encoded data removed]",
      "text/plain": [
       "<Figure size 640x480 with 1 Axes>"
      ]
     },
     "metadata": {},
     "output_type": "display_data"
    }
   ],
   "source": [
    "df[\"condition\"].value_counts(normalize=True).sort_index().plot(kind=\"bar\")\n",
    "# we can see that grade is on the rangefor (1-5) .Also , nearly more than 90%  houses have  a good/grat condition "
   ]
  },
  {
   "cell_type": "code",
   "execution_count": 80,
   "metadata": {
    "id": "-0OzFVcq1cx1"
   },
   "outputs": [],
   "source": [
    "df_bad_condtion=df[df[\"condition\"].isin([1,2])]#...maybe we use it in our anlaysis later "
   ]
  },
  {
   "cell_type": "markdown",
   "metadata": {
    "id": "rECHbZtvDA44"
   },
   "source": [
    "#3-Primary Data Analysis /feature extraction \n"
   ]
  },
  {
   "cell_type": "code",
   "execution_count": 81,
   "metadata": {
    "colab": {
     "base_uri": "https://localhost:8080/"
    },
    "id": "2ry3LRP6Psqf",
    "outputId": "7398c411-db67-4197-9145-017b2ec22e1f"
   },
   "outputs": [
    {
     "name": "stdout",
     "output_type": "stream",
     "text": [
      "Requirement already satisfied: uszipcode in c:\\users\\orange\\appdata\\local\\programs\\python\\python311\\lib\\site-packages (1.0.1)\n",
      "Requirement already satisfied: attrs in c:\\users\\orange\\appdata\\local\\programs\\python\\python311\\lib\\site-packages (from uszipcode) (23.1.0)\n",
      "Requirement already satisfied: requests in c:\\users\\orange\\appdata\\local\\programs\\python\\python311\\lib\\site-packages (from uszipcode) (2.31.0)\n",
      "Requirement already satisfied: pathlib-mate in c:\\users\\orange\\appdata\\local\\programs\\python\\python311\\lib\\site-packages (from uszipcode) (1.2.1)\n",
      "Requirement already satisfied: atomicwrites in c:\\users\\orange\\appdata\\local\\programs\\python\\python311\\lib\\site-packages (from uszipcode) (1.4.1)\n",
      "Requirement already satisfied: fuzzywuzzy in c:\\users\\orange\\appdata\\local\\programs\\python\\python311\\lib\\site-packages (from uszipcode) (0.18.0)\n",
      "Requirement already satisfied: haversine>=2.5.0 in c:\\users\\orange\\appdata\\local\\programs\\python\\python311\\lib\\site-packages (from uszipcode) (2.8.0)\n",
      "Requirement already satisfied: SQLAlchemy>=1.4.0 in c:\\users\\orange\\appdata\\local\\programs\\python\\python311\\lib\\site-packages (from uszipcode) (1.4.49)\n",
      "Requirement already satisfied: sqlalchemy-mate>=1.4.28.3 in c:\\users\\orange\\appdata\\local\\programs\\python\\python311\\lib\\site-packages (from uszipcode) (1.4.28.4)\n",
      "Requirement already satisfied: greenlet!=0.4.17 in c:\\users\\orange\\appdata\\local\\programs\\python\\python311\\lib\\site-packages (from SQLAlchemy>=1.4.0->uszipcode) (2.0.2)\n",
      "Requirement already satisfied: prettytable in c:\\users\\orange\\appdata\\local\\programs\\python\\python311\\lib\\site-packages (from sqlalchemy-mate>=1.4.28.3->uszipcode) (3.9.0)\n",
      "Requirement already satisfied: six in c:\\users\\orange\\appdata\\local\\programs\\python\\python311\\lib\\site-packages (from pathlib-mate->uszipcode) (1.16.0)\n",
      "Requirement already satisfied: charset-normalizer<4,>=2 in c:\\users\\orange\\appdata\\local\\programs\\python\\python311\\lib\\site-packages (from requests->uszipcode) (3.2.0)\n",
      "Requirement already satisfied: idna<4,>=2.5 in c:\\users\\orange\\appdata\\local\\programs\\python\\python311\\lib\\site-packages (from requests->uszipcode) (3.4)\n",
      "Requirement already satisfied: urllib3<3,>=1.21.1 in c:\\users\\orange\\appdata\\local\\programs\\python\\python311\\lib\\site-packages (from requests->uszipcode) (1.26.16)\n",
      "Requirement already satisfied: certifi>=2017.4.17 in c:\\users\\orange\\appdata\\local\\programs\\python\\python311\\lib\\site-packages (from requests->uszipcode) (2023.7.22)\n",
      "Requirement already satisfied: wcwidth in c:\\users\\orange\\appdata\\local\\programs\\python\\python311\\lib\\site-packages (from prettytable->sqlalchemy-mate>=1.4.28.3->uszipcode) (0.2.6)\n"
     ]
    },
    {
     "name": "stderr",
     "output_type": "stream",
     "text": [
      "\n",
      "[notice] A new release of pip is available: 23.1.2 -> 23.2.1\n",
      "[notice] To update, run: python.exe -m pip install --upgrade pip\n"
     ]
    }
   ],
   "source": [
    "# this graph show that they are related to each other \n",
    "#converting zip code to city name by using : \n",
    "!pip install uszipcode"
   ]
  },
  {
   "cell_type": "code",
   "execution_count": 82,
   "metadata": {
    "colab": {
     "base_uri": "https://localhost:8080/",
     "height": 887
    },
    "id": "O0wKbPYNSBy2",
    "outputId": "0ce5a5a6-7d03-42c2-ed87-d099ed6ae392"
   },
   "outputs": [
    {
     "data": {
      "text/html": [
       "<div>\n",
       "<style scoped>\n",
       "    .dataframe tbody tr th:only-of-type {\n",
       "        vertical-align: middle;\n",
       "    }\n",
       "\n",
       "    .dataframe tbody tr th {\n",
       "        vertical-align: top;\n",
       "    }\n",
       "\n",
       "    .dataframe thead th {\n",
       "        text-align: right;\n",
       "    }\n",
       "</style>\n",
       "<table border=\"1\" class=\"dataframe\">\n",
       "  <thead>\n",
       "    <tr style=\"text-align: right;\">\n",
       "      <th></th>\n",
       "      <th>id</th>\n",
       "      <th>date</th>\n",
       "      <th>price</th>\n",
       "      <th>bedrooms</th>\n",
       "      <th>bathrooms</th>\n",
       "      <th>sqft_living</th>\n",
       "      <th>sqft_lot</th>\n",
       "      <th>floors</th>\n",
       "      <th>waterfront</th>\n",
       "      <th>view</th>\n",
       "      <th>...</th>\n",
       "      <th>sqft_above</th>\n",
       "      <th>sqft_basement</th>\n",
       "      <th>yr_built</th>\n",
       "      <th>yr_renovated</th>\n",
       "      <th>zipcode</th>\n",
       "      <th>lat</th>\n",
       "      <th>long</th>\n",
       "      <th>sqft_living15</th>\n",
       "      <th>sqft_lot15</th>\n",
       "      <th>city</th>\n",
       "    </tr>\n",
       "  </thead>\n",
       "  <tbody>\n",
       "    <tr>\n",
       "      <th>0</th>\n",
       "      <td>7129300520</td>\n",
       "      <td>2014-10-13</td>\n",
       "      <td>221900.0</td>\n",
       "      <td>3</td>\n",
       "      <td>1.00</td>\n",
       "      <td>1180</td>\n",
       "      <td>5650</td>\n",
       "      <td>1.0</td>\n",
       "      <td>0</td>\n",
       "      <td>0</td>\n",
       "      <td>...</td>\n",
       "      <td>1180</td>\n",
       "      <td>0</td>\n",
       "      <td>1955</td>\n",
       "      <td>0</td>\n",
       "      <td>98178</td>\n",
       "      <td>47.5112</td>\n",
       "      <td>-122.257</td>\n",
       "      <td>1340</td>\n",
       "      <td>5650</td>\n",
       "      <td>Seattle</td>\n",
       "    </tr>\n",
       "    <tr>\n",
       "      <th>1</th>\n",
       "      <td>6414100192</td>\n",
       "      <td>2014-12-09</td>\n",
       "      <td>538000.0</td>\n",
       "      <td>3</td>\n",
       "      <td>2.25</td>\n",
       "      <td>2570</td>\n",
       "      <td>7242</td>\n",
       "      <td>2.0</td>\n",
       "      <td>0</td>\n",
       "      <td>0</td>\n",
       "      <td>...</td>\n",
       "      <td>2170</td>\n",
       "      <td>400</td>\n",
       "      <td>1951</td>\n",
       "      <td>1991</td>\n",
       "      <td>98125</td>\n",
       "      <td>47.7210</td>\n",
       "      <td>-122.319</td>\n",
       "      <td>1690</td>\n",
       "      <td>7639</td>\n",
       "      <td>Seattle</td>\n",
       "    </tr>\n",
       "    <tr>\n",
       "      <th>2</th>\n",
       "      <td>5631500400</td>\n",
       "      <td>2015-02-25</td>\n",
       "      <td>180000.0</td>\n",
       "      <td>2</td>\n",
       "      <td>1.00</td>\n",
       "      <td>770</td>\n",
       "      <td>10000</td>\n",
       "      <td>1.0</td>\n",
       "      <td>0</td>\n",
       "      <td>0</td>\n",
       "      <td>...</td>\n",
       "      <td>770</td>\n",
       "      <td>0</td>\n",
       "      <td>1933</td>\n",
       "      <td>0</td>\n",
       "      <td>98028</td>\n",
       "      <td>47.7379</td>\n",
       "      <td>-122.233</td>\n",
       "      <td>2720</td>\n",
       "      <td>8062</td>\n",
       "      <td>Kenmore</td>\n",
       "    </tr>\n",
       "    <tr>\n",
       "      <th>3</th>\n",
       "      <td>2487200875</td>\n",
       "      <td>2014-12-09</td>\n",
       "      <td>604000.0</td>\n",
       "      <td>4</td>\n",
       "      <td>3.00</td>\n",
       "      <td>1960</td>\n",
       "      <td>5000</td>\n",
       "      <td>1.0</td>\n",
       "      <td>0</td>\n",
       "      <td>0</td>\n",
       "      <td>...</td>\n",
       "      <td>1050</td>\n",
       "      <td>910</td>\n",
       "      <td>1965</td>\n",
       "      <td>0</td>\n",
       "      <td>98136</td>\n",
       "      <td>47.5208</td>\n",
       "      <td>-122.393</td>\n",
       "      <td>1360</td>\n",
       "      <td>5000</td>\n",
       "      <td>Seattle</td>\n",
       "    </tr>\n",
       "    <tr>\n",
       "      <th>4</th>\n",
       "      <td>1954400510</td>\n",
       "      <td>2015-02-18</td>\n",
       "      <td>510000.0</td>\n",
       "      <td>3</td>\n",
       "      <td>2.00</td>\n",
       "      <td>1680</td>\n",
       "      <td>8080</td>\n",
       "      <td>1.0</td>\n",
       "      <td>0</td>\n",
       "      <td>0</td>\n",
       "      <td>...</td>\n",
       "      <td>1680</td>\n",
       "      <td>0</td>\n",
       "      <td>1987</td>\n",
       "      <td>0</td>\n",
       "      <td>98074</td>\n",
       "      <td>47.6168</td>\n",
       "      <td>-122.045</td>\n",
       "      <td>1800</td>\n",
       "      <td>7503</td>\n",
       "      <td>Sammamish</td>\n",
       "    </tr>\n",
       "    <tr>\n",
       "      <th>...</th>\n",
       "      <td>...</td>\n",
       "      <td>...</td>\n",
       "      <td>...</td>\n",
       "      <td>...</td>\n",
       "      <td>...</td>\n",
       "      <td>...</td>\n",
       "      <td>...</td>\n",
       "      <td>...</td>\n",
       "      <td>...</td>\n",
       "      <td>...</td>\n",
       "      <td>...</td>\n",
       "      <td>...</td>\n",
       "      <td>...</td>\n",
       "      <td>...</td>\n",
       "      <td>...</td>\n",
       "      <td>...</td>\n",
       "      <td>...</td>\n",
       "      <td>...</td>\n",
       "      <td>...</td>\n",
       "      <td>...</td>\n",
       "      <td>...</td>\n",
       "    </tr>\n",
       "    <tr>\n",
       "      <th>21608</th>\n",
       "      <td>263000018</td>\n",
       "      <td>2014-05-21</td>\n",
       "      <td>360000.0</td>\n",
       "      <td>3</td>\n",
       "      <td>2.50</td>\n",
       "      <td>1530</td>\n",
       "      <td>1131</td>\n",
       "      <td>3.0</td>\n",
       "      <td>0</td>\n",
       "      <td>0</td>\n",
       "      <td>...</td>\n",
       "      <td>1530</td>\n",
       "      <td>0</td>\n",
       "      <td>2009</td>\n",
       "      <td>0</td>\n",
       "      <td>98103</td>\n",
       "      <td>47.6993</td>\n",
       "      <td>-122.346</td>\n",
       "      <td>1530</td>\n",
       "      <td>1509</td>\n",
       "      <td>Seattle</td>\n",
       "    </tr>\n",
       "    <tr>\n",
       "      <th>21609</th>\n",
       "      <td>6600060120</td>\n",
       "      <td>2015-02-23</td>\n",
       "      <td>400000.0</td>\n",
       "      <td>4</td>\n",
       "      <td>2.50</td>\n",
       "      <td>2310</td>\n",
       "      <td>5813</td>\n",
       "      <td>2.0</td>\n",
       "      <td>0</td>\n",
       "      <td>0</td>\n",
       "      <td>...</td>\n",
       "      <td>2310</td>\n",
       "      <td>0</td>\n",
       "      <td>2014</td>\n",
       "      <td>0</td>\n",
       "      <td>98146</td>\n",
       "      <td>47.5107</td>\n",
       "      <td>-122.362</td>\n",
       "      <td>1830</td>\n",
       "      <td>7200</td>\n",
       "      <td>Seattle</td>\n",
       "    </tr>\n",
       "    <tr>\n",
       "      <th>21610</th>\n",
       "      <td>1523300141</td>\n",
       "      <td>2014-06-23</td>\n",
       "      <td>402101.0</td>\n",
       "      <td>2</td>\n",
       "      <td>0.75</td>\n",
       "      <td>1020</td>\n",
       "      <td>1350</td>\n",
       "      <td>2.0</td>\n",
       "      <td>0</td>\n",
       "      <td>0</td>\n",
       "      <td>...</td>\n",
       "      <td>1020</td>\n",
       "      <td>0</td>\n",
       "      <td>2009</td>\n",
       "      <td>0</td>\n",
       "      <td>98144</td>\n",
       "      <td>47.5944</td>\n",
       "      <td>-122.299</td>\n",
       "      <td>1020</td>\n",
       "      <td>2007</td>\n",
       "      <td>Seattle</td>\n",
       "    </tr>\n",
       "    <tr>\n",
       "      <th>21611</th>\n",
       "      <td>291310100</td>\n",
       "      <td>2015-01-16</td>\n",
       "      <td>400000.0</td>\n",
       "      <td>3</td>\n",
       "      <td>2.50</td>\n",
       "      <td>1600</td>\n",
       "      <td>2388</td>\n",
       "      <td>2.0</td>\n",
       "      <td>0</td>\n",
       "      <td>0</td>\n",
       "      <td>...</td>\n",
       "      <td>1600</td>\n",
       "      <td>0</td>\n",
       "      <td>2004</td>\n",
       "      <td>0</td>\n",
       "      <td>98027</td>\n",
       "      <td>47.5345</td>\n",
       "      <td>-122.069</td>\n",
       "      <td>1410</td>\n",
       "      <td>1287</td>\n",
       "      <td>Issaquah</td>\n",
       "    </tr>\n",
       "    <tr>\n",
       "      <th>21612</th>\n",
       "      <td>1523300157</td>\n",
       "      <td>2014-10-15</td>\n",
       "      <td>325000.0</td>\n",
       "      <td>2</td>\n",
       "      <td>0.75</td>\n",
       "      <td>1020</td>\n",
       "      <td>1076</td>\n",
       "      <td>2.0</td>\n",
       "      <td>0</td>\n",
       "      <td>0</td>\n",
       "      <td>...</td>\n",
       "      <td>1020</td>\n",
       "      <td>0</td>\n",
       "      <td>2008</td>\n",
       "      <td>0</td>\n",
       "      <td>98144</td>\n",
       "      <td>47.5941</td>\n",
       "      <td>-122.299</td>\n",
       "      <td>1020</td>\n",
       "      <td>1357</td>\n",
       "      <td>Seattle</td>\n",
       "    </tr>\n",
       "  </tbody>\n",
       "</table>\n",
       "<p>21596 rows × 22 columns</p>\n",
       "</div>"
      ],
      "text/plain": [
       "               id       date     price  bedrooms  bathrooms  sqft_living  \\\n",
       "0      7129300520 2014-10-13  221900.0         3       1.00         1180   \n",
       "1      6414100192 2014-12-09  538000.0         3       2.25         2570   \n",
       "2      5631500400 2015-02-25  180000.0         2       1.00          770   \n",
       "3      2487200875 2014-12-09  604000.0         4       3.00         1960   \n",
       "4      1954400510 2015-02-18  510000.0         3       2.00         1680   \n",
       "...           ...        ...       ...       ...        ...          ...   \n",
       "21608   263000018 2014-05-21  360000.0         3       2.50         1530   \n",
       "21609  6600060120 2015-02-23  400000.0         4       2.50         2310   \n",
       "21610  1523300141 2014-06-23  402101.0         2       0.75         1020   \n",
       "21611   291310100 2015-01-16  400000.0         3       2.50         1600   \n",
       "21612  1523300157 2014-10-15  325000.0         2       0.75         1020   \n",
       "\n",
       "       sqft_lot  floors waterfront view  ... sqft_above sqft_basement  \\\n",
       "0          5650     1.0          0    0  ...       1180             0   \n",
       "1          7242     2.0          0    0  ...       2170           400   \n",
       "2         10000     1.0          0    0  ...        770             0   \n",
       "3          5000     1.0          0    0  ...       1050           910   \n",
       "4          8080     1.0          0    0  ...       1680             0   \n",
       "...         ...     ...        ...  ...  ...        ...           ...   \n",
       "21608      1131     3.0          0    0  ...       1530             0   \n",
       "21609      5813     2.0          0    0  ...       2310             0   \n",
       "21610      1350     2.0          0    0  ...       1020             0   \n",
       "21611      2388     2.0          0    0  ...       1600             0   \n",
       "21612      1076     2.0          0    0  ...       1020             0   \n",
       "\n",
       "       yr_built  yr_renovated  zipcode      lat     long  sqft_living15  \\\n",
       "0          1955             0    98178  47.5112 -122.257           1340   \n",
       "1          1951          1991    98125  47.7210 -122.319           1690   \n",
       "2          1933             0    98028  47.7379 -122.233           2720   \n",
       "3          1965             0    98136  47.5208 -122.393           1360   \n",
       "4          1987             0    98074  47.6168 -122.045           1800   \n",
       "...         ...           ...      ...      ...      ...            ...   \n",
       "21608      2009             0    98103  47.6993 -122.346           1530   \n",
       "21609      2014             0    98146  47.5107 -122.362           1830   \n",
       "21610      2009             0    98144  47.5944 -122.299           1020   \n",
       "21611      2004             0    98027  47.5345 -122.069           1410   \n",
       "21612      2008             0    98144  47.5941 -122.299           1020   \n",
       "\n",
       "       sqft_lot15       city  \n",
       "0            5650    Seattle  \n",
       "1            7639    Seattle  \n",
       "2            8062    Kenmore  \n",
       "3            5000    Seattle  \n",
       "4            7503  Sammamish  \n",
       "...           ...        ...  \n",
       "21608        1509    Seattle  \n",
       "21609        7200    Seattle  \n",
       "21610        2007    Seattle  \n",
       "21611        1287   Issaquah  \n",
       "21612        1357    Seattle  \n",
       "\n",
       "[21596 rows x 22 columns]"
      ]
     },
     "execution_count": 82,
     "metadata": {},
     "output_type": "execute_result"
    }
   ],
   "source": [
    "#converting zip code to city name \n",
    "from uszipcode import SearchEngine, SimpleZipcode\n",
    "search = SearchEngine()\n",
    "def zco(x):\n",
    "    city = search.by_zipcode(x).major_city\n",
    "    return city if city else 'None'\n",
    "\n",
    "df['city'] = df['zipcode'].apply(zco)\n",
    "df"
   ]
  },
  {
   "cell_type": "code",
   "execution_count": 83,
   "metadata": {
    "id": "8dUXktr7SGXT"
   },
   "outputs": [],
   "source": [
    "#(is renovated) column is more useful than (yr_renovated) \n",
    "df[\"is_renovated\"] =0 \n",
    "df.loc[df['yr_renovated'].astype(\"int\") > 0, 'is_renovated'] = 1\n"
   ]
  },
  {
   "cell_type": "code",
   "execution_count": 84,
   "metadata": {
    "id": "AQDoVHLSF1UV"
   },
   "outputs": [],
   "source": [
    "df[\"year\"]=df[\"date\"].dt.year #..changing the data type of year column to simplify the analysis\n",
    "df[\"month\"]=df[\"date\"].dt.month#..changing the data type of month column to simplify the analysis\n",
    "#df.loc[df[\"yr_renovated\"]>0 , \"yr_built\"]=df[\"yr_renovated\"]#. .change year built to year renovated \n",
    "#df[\"year_until_purchase\"]=df[\"year\"]-df[\"yr_built\"]#. ... create our target variable which indicates how long the house from building  until its purschase \n",
    "#d=df.to_csv(\"C:\\\\Users\\\\LENOVO\\\\Desktop\\\\New folder\")"
   ]
  },
  {
   "cell_type": "markdown",
   "metadata": {},
   "source": [
    "## Handling Outliers"
   ]
  },
  {
   "cell_type": "code",
   "execution_count": 85,
   "metadata": {},
   "outputs": [],
   "source": [
    "def identify_outliers(col_name, df):\n",
    "# Identify outliers using the interquartile range method.\n",
    "    Q1 = np.quantile(df[col_name], 0.25)\n",
    "    Q3 = np.quantile(df[col_name], 0.75)\n",
    "    IQR = Q3 - Q1\n",
    "    upper_limit = Q3 + 1.5 * IQR\n",
    "    lower_limit = Q1 - 1.5 * IQR\n",
    "    return (df[col_name] > upper_limit) | (df[col_name] < lower_limit)\n",
    "\n",
    "outlier_mask = identify_outliers(\"bedrooms\", df)"
   ]
  },
  {
   "cell_type": "code",
   "execution_count": 86,
   "metadata": {},
   "outputs": [],
   "source": [
    "from sklearn.preprocessing import RobustScaler\n",
    "\n",
    "def handle_outliers(data):\n",
    "    # Copy the input DataFrame to avoid modifying the original data\n",
    "    processed_data = data.copy()\n",
    "    \n",
    "    # Separate columns by data type\n",
    "    numeric_cols = processed_data.select_dtypes(include=['number']).columns.tolist()\n",
    "    categorical_cols = processed_data.select_dtypes(include=['object', 'category']).columns.tolist()\n",
    "    datetime_cols = processed_data.select_dtypes(include=['datetime64']).columns.tolist()\n",
    "    \n",
    "    # Initialize RobustScaler for numeric columns\n",
    "    scaler = RobustScaler(quantile_range=(25, 75))\n",
    "    \n",
    "    # Scale numeric columns\n",
    "    processed_data[numeric_cols] = scaler.fit_transform(processed_data[numeric_cols])    \n",
    "    return processed_data\n",
    "\n",
    "df = handle_outliers(df)"
   ]
  },
  {
   "cell_type": "markdown",
   "metadata": {
    "id": "aZjS9nJELUVk"
   },
   "source": [
    "#feature selection"
   ]
  },
  {
   "cell_type": "code",
   "execution_count": 87,
   "metadata": {
    "id": "LKcCTUN3Lo5-"
   },
   "outputs": [],
   "source": [
    "# based on understanding our data and feature engineering, dropping non-sense columns\n",
    "df[[\"yr_built\",\"is_renovated\" ,\"year\" ,\"month\"]]=df[[\"yr_built\",\"is_renovated\" ,\"year\" ,\"month\"]].astype(\"category\")\n",
    "#yr_untill_purchase= yr_purshase(2014/2015) - yr_build 1980\n",
    "df_before_dummies=df\n"
   ]
  },
  {
   "cell_type": "code",
   "execution_count": 88,
   "metadata": {
    "id": "bebKtbLDPx5E"
   },
   "outputs": [],
   "source": [
    "#one hot encoder for backward elimination and modeling \n",
    "df_city=pd.get_dummies(df[\"city\"],drop_first=True)\n",
    "df_dummies=pd.concat([df,df_city] ,axis=1)\n",
    "df_dummies = df_dummies.drop(columns=[\"city\"])\n",
    "df_lat=df_dummies\n",
    "df_dummies=df_dummies.drop([\"id\",\"zipcode\",\"lat\",\"long\",\"yr_renovated\",\"date\"],axis=1) \n"
   ]
  },
  {
   "cell_type": "markdown",
   "metadata": {
    "id": "-0SiFzBMTqJd"
   },
   "source": [
    "#BACK WORD ELIMINATION 1"
   ]
  },
  {
   "cell_type": "code",
   "execution_count": 89,
   "metadata": {
    "colab": {
     "base_uri": "https://localhost:8080/"
    },
    "id": "6UPAQld5QB_j",
    "outputId": "a753e927-b754-40c9-eee0-b43b18cd5e35"
   },
   "outputs": [
    {
     "data": {
      "text/plain": [
       "(21596, 40)"
      ]
     },
     "execution_count": 89,
     "metadata": {},
     "output_type": "execute_result"
    }
   ],
   "source": [
    "# x ,y \n",
    "x=df_dummies.drop(\"price\" ,axis=1)\n",
    "y=df_dummies[\"price\"]\n",
    "x=x.values # converted to 2d array\n",
    "y=y.values # converted to 1d array \n",
    "y.shape\n",
    "x.shape"
   ]
  },
  {
   "cell_type": "code",
   "execution_count": 90,
   "metadata": {
    "colab": {
     "base_uri": "https://localhost:8080/"
    },
    "id": "pJX1hyFiVLmA",
    "outputId": "25bcaa4e-7a41-4300-e20f-5294818e202f"
   },
   "outputs": [
    {
     "data": {
      "text/plain": [
       "(21596, 41)"
      ]
     },
     "execution_count": 90,
     "metadata": {},
     "output_type": "execute_result"
    }
   ],
   "source": [
    "x=np.append(arr=np.ones((21596,1)).astype(\"int\"),values=x,axis=1) # adding one to the first column of the array \n",
    "# b0 in  statsmodels is not defined \n",
    "x.shape"
   ]
  },
  {
   "cell_type": "code",
   "execution_count": 91,
   "metadata": {
    "colab": {
     "base_uri": "https://localhost:8080/"
    },
    "id": "Hxf95MauYhTH",
    "outputId": "89e693af-36bc-4e8a-9aa7-e235b36a4f30"
   },
   "outputs": [
    {
     "data": {
      "text/plain": [
       "Index(['bedrooms', 'bathrooms', 'sqft_living', 'sqft_lot', 'floors',\n",
       "       'waterfront', 'view', 'condition', 'grade', 'sqft_above',\n",
       "       'sqft_basement', 'yr_built', 'sqft_living15', 'sqft_lot15',\n",
       "       'is_renovated', 'year', 'month', 'Bellevue', 'Black Diamond', 'Bothell',\n",
       "       'Carnation', 'Duvall', 'Fall City', 'Federal Way', 'Issaquah',\n",
       "       'Kenmore', 'Kirkland', 'Maple Valley', 'Medina', 'Mercer Island',\n",
       "       'North Bend', 'Redmond', 'Renton', 'Sammamish', 'Seattle', 'Snoqualmie',\n",
       "       'Woodinville'],\n",
       "      dtype='object')"
      ]
     },
     "execution_count": 91,
     "metadata": {},
     "output_type": "execute_result"
    }
   ],
   "source": [
    "df_after_extract_features=df_dummies.drop(\"price\" ,axis=1) # dropping the column of target to only take features \n",
    "df_after_extract_features=df_after_extract_features.iloc[: , [0,1,2,3,4,5,6,7,8,9,10,11,12,13,14,15,16,17,18,19,20,21,23,24,25,26,28,29,30,31,32,33,34,35,36,37,39]] #subsetting the index we got from the backword elimination \n",
    "df_after_extract_features.columns # print columns name "
   ]
  },
  {
   "cell_type": "code",
   "execution_count": 92,
   "metadata": {
    "id": "cnZJdsFwA-74"
   },
   "outputs": [],
   "source": [
    "y=df_dummies[\"price\"]# our target Series \n",
    "df_new=pd.concat([df_after_extract_features ,y] ,axis=1) # features dataFrame that resulted from the backword elimination \n",
    "df_new[[\"waterfront\",\"view\",\"condition\",\"grade\",\"is_renovated\",\"year\",\"month\"]]=df_new[[\"waterfront\",\"view\",\"condition\",\"grade\",\"is_renovated\",\"year\",\"month\"]].astype(int) #converting data type to int "
   ]
  },
  {
   "cell_type": "markdown",
   "metadata": {
    "id": "kOExvaKaTSP8"
   },
   "source": [
    "Bckword_Elimination 2 "
   ]
  },
  {
   "cell_type": "code",
   "execution_count": 93,
   "metadata": {
    "colab": {
     "base_uri": "https://localhost:8080/"
    },
    "id": "Wmv-gGeoTRRF",
    "outputId": "556901c5-f695-4046-baad-dd3fc776c531"
   },
   "outputs": [
    {
     "data": {
      "text/plain": [
       "(21596, 42)"
      ]
     },
     "execution_count": 93,
     "metadata": {},
     "output_type": "execute_result"
    }
   ],
   "source": [
    "# making a second data Frame which containing latitude and longitude, named df_lat \n",
    "df_lat=df_lat.drop([\"id\",\"date\",\"zipcode\",\"yr_renovated\"],axis=1) # creating df_lat \n",
    "X=df_lat.drop(\"price\" ,axis=1) # features variable \n",
    "y=df_lat[\"price\"] # target variable \n",
    "X=X.values # converted to 2d array\n",
    "y=y.values # converted to 1d array \n",
    "y.shape # shape of array for target variable \n",
    "X.shape # shape of array for features "
   ]
  },
  {
   "cell_type": "code",
   "execution_count": 94,
   "metadata": {
    "colab": {
     "base_uri": "https://localhost:8080/"
    },
    "id": "jalecrJ4TRE2",
    "outputId": "b9da4525-1742-4fa8-c155-4389f1686f75"
   },
   "outputs": [
    {
     "data": {
      "text/plain": [
       "(21596, 43)"
      ]
     },
     "execution_count": 94,
     "metadata": {},
     "output_type": "execute_result"
    }
   ],
   "source": [
    "X=np.append(arr=np.ones((21596,1)).astype(\"int\"),values=X,axis=1) # adding one to the first column of the array \n",
    "# because b0 in  statsmodels doesnt defined \n",
    "X.shape"
   ]
  },
  {
   "cell_type": "code",
   "execution_count": 95,
   "metadata": {
    "id": "J0Wtr9bWWlhI"
   },
   "outputs": [],
   "source": [
    "df_lat=df_lat.drop(\"Carnation\",axis=1) # df_"
   ]
  },
  {
   "cell_type": "markdown",
   "metadata": {
    "id": "rewQpuJWjdyC"
   },
   "source": [
    "#models"
   ]
  },
  {
   "cell_type": "code",
   "execution_count": 96,
   "metadata": {
    "id": "51Bmh02O0Wv7"
   },
   "outputs": [],
   "source": [
    "from pandas.core import algorithms \n",
    "from sklearn.linear_model import LinearRegression ,Lasso\n",
    "from sklearn.model_selection import train_test_split ,cross_val_score , KFold,GridSearchCV ,RandomizedSearchCV ,learning_curve\n",
    "from sklearn.preprocessing import StandardScaler \n",
    "from sklearn.tree import DecisionTreeRegressor\n",
    "from sklearn.pipeline import Pipeline\n",
    "from sklearn.ensemble import RandomForestRegressor ,GradientBoostingRegressor\n",
    "from sklearn.svm import SVR\n",
    "from sklearn.metrics import mean_squared_error\n",
    "from sklearn.feature_selection import RFE\n",
    "\n",
    "\n",
    "class Regresssion_models() : # creating a class for random forest and gradient boosting algorithms, which contains functions that help automating any data to choose the best model\n",
    "  def __init__(self,data,target,algorithim): \n",
    "    \"\"\" variables related to the entire class \"\"\"\n",
    "    self.data=data\n",
    "    self.target=target\n",
    "    self.algorithim=algorithim\n",
    "  \n",
    "  \n",
    "  def model(self) :\n",
    "    \"\"\" splitting data, features from target variables. And splitting data to train and test to get reliable results \"\"\"\n",
    "    X=self.data.drop(self.target ,axis=1)\n",
    "    y=self.data[self.target]\n",
    "    X_train,X_test ,y_train ,y_test = train_test_split(X,y,test_size=0.2 ,random_state=0)\n",
    "    return(X_train ,X_test ,y_train ,y_test)\n",
    "\n",
    "  def train(self):\n",
    "    \"\"\" trainig the model to get the coefficients\"\"\"\n",
    "    mdl=self.algorithim\n",
    "    return mdl.fit(self.model()[0],self.model()[2])\n",
    "\n",
    "  def score(self,number_of_fold=5):\n",
    "    \"\"\" Calculate the Score for cross validation of data, training, and testing the data\"\"\"\n",
    "    kf=KFold(number_of_fold ,shuffle=True,random_state=0)\n",
    "    cv_score=np.mean(cross_val_score(self.algorithim,self.model()[0],self.model()[2],cv=kf))\n",
    "    train_score=self.train().score(self.model()[0],self.model()[2])\n",
    "    test_score=self.train().score(self.model()[1],self.model()[3])\n",
    "    return (f\"validation_score:{cv_score},train_score:{train_score} ,test_score :{test_score}\")\n",
    "\n",
    "  def enhance_rf_model(self,n_estimators=100 ,max_depth=8 , min_sample_leaf=3,number_of_fold=5) : \n",
    "    \"\"\" Hyperparameter tuning for the random forest model, to get best hyperparameter\"\"\"\n",
    "    grid={\"n_estimators\":n_estimators, \"max_depth\":max_depth, \"min_samples_leaf\" : min_sample_leaf}\n",
    "    CV=RandomizedSearchCV(self.algorithim,grid,cv=number_of_fold,n_jobs=-1,n_iter=25) \n",
    "    CV.fit(self.model()[0],self.model()[2])\n",
    "    return CV.best_params_\n",
    "\n",
    "  def enhance_boost_model(self,n_estimators=100,number_of_fold=5) : \n",
    "    \"\"\" Hyperparameter tuning for the gradient boosting model, to get best trees number (n_estimators) at a certain learning rate which is 0.2\"\"\"\n",
    "    grid={\"n_estimators\":n_estimators}\n",
    "    CV=GridSearchCV(self.algorithim,grid,cv=number_of_fold,n_jobs=-1) \n",
    "    CV.fit(self.model()[0],self.model()[2])     \n",
    "    for mean, std, params in zip(CV.cv_results_['mean_test_score'], CV.cv_results_['std_test_score'], CV.cv_results_['params']):\n",
    "      print(\"%0.3f for %r\"%(mean , params))\n",
    "\n",
    "  def enhance_boost_model_second(self,learning_rate=0.2,n_estimators=190 ,max_depth=8 , min_sample_leaf=10,number_of_fold=5,subsample=0.8) : \n",
    "    \"\"\" Hyperparameter tuning for the gradient boosting model, to get best hyperparameter, related to the trees\"\"\"\n",
    "    grid={\"max_depth\":max_depth ,\"min_samples_leaf\":min_sample_leaf}\n",
    "    CV=RandomizedSearchCV(self.algorithim,grid,cv=number_of_fold,n_jobs=-1,n_iter=25) \n",
    "    CV.fit(self.model()[0],self.model()[2])     \n",
    "    for mean, std, params in zip(CV.cv_results_['mean_test_score'], CV.cv_results_['std_test_score'], CV.cv_results_['params']):\n",
    "      print(\"%0.3f  for %r\"%(mean , params))\n",
    "  \n",
    "\n",
    "  def feature_selection(self) :\n",
    "    \"\"\"most important features, depending on random forest selestion\"\"\"\n",
    "    importance_feature= pd.Series (self.train().feature_importances_ , index=self.data.drop(self.target ,axis=1).columns).sort_values() \n",
    "    importance_feature.plot(kind=\"bar\") \n",
    "    plt.show( ) \n",
    "\n",
    "  def learn_curve(self,train_size ,number_of_fold=5) :\n",
    "    \"\"\"Creating learning curve to validate our data\"\"\"\n",
    "    train_sizes, train_scores, test_scores = learning_curve(estimator=self.algorithim,X=self.data.drop(self.target ,axis=1),y=self.data[self.target],cv=number_of_fold, scoring=\"neg_root_mean_squared_error\",train_sizes=train_size)\n",
    "    train_mean= -train_scores.mean(axis=1)\n",
    "    test_mean = -test_scores.mean(axis=1)\n",
    "    plt.subplots(figsize=(10,8))\n",
    "    plt.plot(train_sizes, train_mean, label=\"train\")\n",
    "    plt.plot(train_sizes, test_mean, label=\"validation\")\n",
    "    plt.title(\"Learning Curve\")\n",
    "    plt.xlabel(\"Training Set Size\")\n",
    "    plt.ylabel(\"RMSE\")\n",
    "    plt.legend(loc=\"best\")\n",
    "\n",
    "  def price_var(self) : \n",
    "    \"\"\"Finding the residual which between the actual and perdition price to see how its distribution looks links. \"\"\"\n",
    "    y_pred = self.train().predict(self.model()[1])\n",
    "    y_test=self.model()[3]\n",
    "    residual=y_test-y_pred\n",
    "    plt.figure(figsize=(10,8))\n",
    "    return sns.distplot(residual) \n",
    "\n",
    "  def rmse(self) : \n",
    "    \"\"\"Calculate the root mean square error\"\"\"\n",
    "    y_pred = self.train().predict(self.model()[1])\n",
    "    y_test=self.model()[3]\n",
    "    return (f\"root mean square error : {np.sqrt(mean_squared_error(y_test,y_pred))}\")"
   ]
  },
  {
   "cell_type": "markdown",
   "metadata": {
    "id": "uDDOMQwYqiK3"
   },
   "source": [
    "#RandomForest "
   ]
  },
  {
   "cell_type": "markdown",
   "metadata": {
    "id": "4mesb75QmlEL"
   },
   "source": [
    "for dataframe without latitude and longitude"
   ]
  },
  {
   "cell_type": "code",
   "execution_count": 97,
   "metadata": {
    "id": "Bkc-n5rqIff6"
   },
   "outputs": [],
   "source": [
    "rf=Regresssion_models(data=df_new,target=\"price\",algorithim=RandomForestRegressor(random_state=0)) #instantiate the class"
   ]
  },
  {
   "cell_type": "code",
   "execution_count": 98,
   "metadata": {
    "colab": {
     "base_uri": "https://localhost:8080/",
     "height": 36
    },
    "id": "u4LRo3dcKyOG",
    "outputId": "fb344d69-8b62-494a-b170-e539932b44a2"
   },
   "outputs": [
    {
     "data": {
      "text/plain": [
       "'validation_score:0.7972341864236837,train_score:0.9738847189187415 ,test_score :0.840171186657253'"
      ]
     },
     "execution_count": 98,
     "metadata": {},
     "output_type": "execute_result"
    }
   ],
   "source": [
    "rf.score() # calculating accuracies (cv, train, test) for first trial without tuning >> overfitting "
   ]
  },
  {
   "cell_type": "code",
   "execution_count": 99,
   "metadata": {
    "id": "dFrCcOmKa7ff"
   },
   "outputs": [],
   "source": [
    "dict_=rf.enhance_rf_model(n_estimators=np.arange(100,250,50),max_depth=np.arange(3,10,1),min_sample_leaf=np.arange(5,20,1))#tuning hyperparameter"
   ]
  },
  {
   "cell_type": "code",
   "execution_count": 100,
   "metadata": {
    "id": "FH62NWoyxelC"
   },
   "outputs": [],
   "source": [
    "rf=Regresssion_models(data=df_new,target=\"price\",algorithim=RandomForestRegressor(**dict_)) #instantiate the class with new hyperparameter"
   ]
  },
  {
   "cell_type": "code",
   "execution_count": 101,
   "metadata": {
    "id": "if10skSHe63f"
   },
   "outputs": [
    {
     "data": {
      "text/plain": [
       "'validation_score:0.72700538627376,train_score:0.7862822420632999 ,test_score :0.7744634532913415'"
      ]
     },
     "execution_count": 101,
     "metadata": {},
     "output_type": "execute_result"
    }
   ],
   "source": [
    "rf.score() #..calculating accuracies (cv, train, test) for trial 2 >> reduced overfitting"
   ]
  },
  {
   "cell_type": "code",
   "execution_count": 102,
   "metadata": {
    "id": "iXhPWrq5nS4V"
   },
   "outputs": [],
   "source": [
    "#rf=Regresssion_models(data=df_new,target=\"price\",algorithim=RandomForestRegressor(random_state=0)) #instantiate the class"
   ]
  },
  {
   "cell_type": "code",
   "execution_count": 103,
   "metadata": {
    "id": "9YnIi3I_e8RM"
   },
   "outputs": [
    {
     "data": {
      "image/png": "[encoded data removed]",
      "text/plain": [
       "<Figure size 640x480 with 1 Axes>"
      ]
     },
     "metadata": {},
     "output_type": "display_data"
    }
   ],
   "source": [
    "rf.feature_selection() # getting most important features, depending on random forest selestion"
   ]
  },
  {
   "cell_type": "code",
   "execution_count": 104,
   "metadata": {
    "id": "Qiq5bz6r_pdy"
   },
   "outputs": [],
   "source": [
    "#rf.learn_curve(train_size=[1, 75, 150, 270, 331])"
   ]
  },
  {
   "cell_type": "markdown",
   "metadata": {
    "id": "MZpb82ocn-Z8"
   },
   "source": [
    "new trial of dataframe adding latitude and longitude (df_lat)"
   ]
  },
  {
   "cell_type": "code",
   "execution_count": 105,
   "metadata": {
    "id": "LRCfV1FRK5Mk"
   },
   "outputs": [],
   "source": [
    "rf=Regresssion_models(data=df_lat,target=\"price\",algorithim=RandomForestRegressor(random_state=0))\n",
    "# adding latitude and longitude in our consideration "
   ]
  },
  {
   "cell_type": "code",
   "execution_count": 106,
   "metadata": {
    "id": "v1SLQcA5K5C_"
   },
   "outputs": [
    {
     "data": {
      "text/plain": [
       "'validation_score:0.8683570181300586,train_score:0.9820605028339763 ,test_score :0.8988348862295171'"
      ]
     },
     "execution_count": 106,
     "metadata": {},
     "output_type": "execute_result"
    }
   ],
   "source": [
    "rf.score()# calculating accuracies (cv, train, test) for first trial without tuning >> overfitting "
   ]
  },
  {
   "cell_type": "code",
   "execution_count": 107,
   "metadata": {
    "id": "1j60pz2yNZXR"
   },
   "outputs": [],
   "source": [
    "dict_=rf.enhance_rf_model(n_estimators=np.arange(100,250,50),max_depth=np.arange(3,10,1),min_sample_leaf=np.arange(5,20,1))#tuningtuning hyperparameter"
   ]
  },
  {
   "cell_type": "code",
   "execution_count": 108,
   "metadata": {
    "id": "Vbegv6t8NZAL"
   },
   "outputs": [],
   "source": [
    "rf=Regresssion_models(data=df_lat,target=\"price\",algorithim=RandomForestRegressor(**dict_))#instantiate the class with new hyperparameter\n"
   ]
  },
  {
   "cell_type": "code",
   "execution_count": 109,
   "metadata": {
    "id": "SnUDAH9RRmJQ"
   },
   "outputs": [
    {
     "data": {
      "text/plain": [
       "'validation_score:0.8422172858830844,train_score:0.8987259339319296 ,test_score :0.8746957778271341'"
      ]
     },
     "execution_count": 109,
     "metadata": {},
     "output_type": "execute_result"
    }
   ],
   "source": [
    "rf.score() #elimenating overfitting and the accuracy is good "
   ]
  },
  {
   "cell_type": "code",
   "execution_count": 110,
   "metadata": {
    "id": "0NBgGoWgR9Vl"
   },
   "outputs": [
    {
     "data": {
      "image/png": "[encoded data removed]",
      "text/plain": [
       "<Figure size 640x480 with 1 Axes>"
      ]
     },
     "metadata": {},
     "output_type": "display_data"
    }
   ],
   "source": [
    "rf.feature_selection() # the most important feature selection >> the lat and long take place "
   ]
  },
  {
   "cell_type": "code",
   "execution_count": 111,
   "metadata": {
    "id": "eRpzTjppR9iS"
   },
   "outputs": [
    {
     "data": {
      "image/png": "[encoded data removed]",
      "text/plain": [
       "<Figure size 1000x800 with 1 Axes>"
      ]
     },
     "metadata": {},
     "output_type": "display_data"
    }
   ],
   "source": [
    "rf.learn_curve(train_size=[1, 75, 150, 270, 331]) # validation of the data using learning curve"
   ]
  },
  {
   "cell_type": "markdown",
   "metadata": {
    "id": "w98pIvUHRqvY"
   },
   "source": [
    "# GradiantBoosting "
   ]
  },
  {
   "cell_type": "markdown",
   "metadata": {
    "id": "w_rJWatCpHFC"
   },
   "source": [
    "dataframe without latitude and longitude"
   ]
  },
  {
   "cell_type": "code",
   "execution_count": 112,
   "metadata": {
    "id": "aywr1f-DRutv"
   },
   "outputs": [
    {
     "data": {
      "text/plain": [
       "'validation_score:0.7972181151530807,train_score:0.8440226182351426 ,test_score :0.8308528576388579'"
      ]
     },
     "execution_count": 112,
     "metadata": {},
     "output_type": "execute_result"
    }
   ],
   "source": [
    "GB=Regresssion_models(df_new,\"price\",GradientBoostingRegressor())\n",
    "GB.score() #calculating score (cv, train, test) for first trial without tuning >> overfitting "
   ]
  },
  {
   "cell_type": "markdown",
   "metadata": {
    "id": "vMVssM1RpnnZ"
   },
   "source": [
    "new trial of dataframe adding latitude and longitude (df_lat)\n",
    "\n"
   ]
  },
  {
   "cell_type": "code",
   "execution_count": 113,
   "metadata": {
    "colab": {
     "base_uri": "https://localhost:8080/",
     "height": 36
    },
    "id": "w2wdVtyHSSxz",
    "outputId": "81dce726-09c4-4027-ee3a-787e2e690ee8"
   },
   "outputs": [
    {
     "data": {
      "text/plain": [
       "'validation_score:0.8591572869511079,train_score:0.9020358081119414 ,test_score :0.8890473421191253'"
      ]
     },
     "execution_count": 113,
     "metadata": {},
     "output_type": "execute_result"
    }
   ],
   "source": [
    "GB=Regresssion_models(df_lat,\"price\",GradientBoostingRegressor())\n",
    "GB.score()#calculating accuracies (cv, train, test) for first trial without tuning >> overfitting (higher than (df_new))"
   ]
  },
  {
   "cell_type": "code",
   "execution_count": 114,
   "metadata": {
    "id": "ZmS_f7QRSVp5"
   },
   "outputs": [],
   "source": [
    "GB=Regresssion_models(df_lat,\"price\",GradientBoostingRegressor(learning_rate=0.2)) #instantiate the class based on learning rate =0.2"
   ]
  },
  {
   "cell_type": "code",
   "execution_count": 115,
   "metadata": {
    "id": "NvwoIj8QSWNM"
   },
   "outputs": [
    {
     "name": "stdout",
     "output_type": "stream",
     "text": [
      "0.858 for {'n_estimators': 50}\n",
      "0.862 for {'n_estimators': 60}\n",
      "0.866 for {'n_estimators': 70}\n",
      "0.867 for {'n_estimators': 80}\n",
      "0.870 for {'n_estimators': 90}\n",
      "0.872 for {'n_estimators': 100}\n",
      "0.873 for {'n_estimators': 110}\n",
      "0.875 for {'n_estimators': 120}\n",
      "0.876 for {'n_estimators': 130}\n",
      "0.877 for {'n_estimators': 140}\n",
      "0.876 for {'n_estimators': 150}\n",
      "0.877 for {'n_estimators': 160}\n",
      "0.877 for {'n_estimators': 170}\n",
      "0.878 for {'n_estimators': 180}\n",
      "0.880 for {'n_estimators': 190}\n"
     ]
    }
   ],
   "source": [
    "GB.enhance_boost_model(n_estimators=np.arange(50,200,10)) #hyperparameter tuning to find appropriate number of trees, at specific learning rate"
   ]
  },
  {
   "cell_type": "code",
   "execution_count": 116,
   "metadata": {
    "id": "yqWYNRkESdUs"
   },
   "outputs": [
    {
     "data": {
      "text/plain": [
       "'validation_score:0.8738900815493901,train_score:0.935542586055407 ,test_score :0.9049758178867202'"
      ]
     },
     "execution_count": 116,
     "metadata": {},
     "output_type": "execute_result"
    }
   ],
   "source": [
    "GB=Regresssion_models(df_lat,\"price\",GradientBoostingRegressor(learning_rate=0.2,n_estimators=190)) #instantiate the new class with the best number of trees\n",
    "GB.score() #calculating score (cv, train, test) for second trial without hyperparameters related to the tree"
   ]
  },
  {
   "cell_type": "code",
   "execution_count": 117,
   "metadata": {
    "id": "EhJTEaPpShy2"
   },
   "outputs": [
    {
     "name": "stdout",
     "output_type": "stream",
     "text": [
      "0.874  for {'min_samples_leaf': 20, 'max_depth': 12}\n",
      "0.872  for {'min_samples_leaf': 30, 'max_depth': 14}\n",
      "0.888  for {'min_samples_leaf': 10, 'max_depth': 5}\n",
      "0.870  for {'min_samples_leaf': 35, 'max_depth': 13}\n",
      "0.872  for {'min_samples_leaf': 25, 'max_depth': 14}\n",
      "0.874  for {'min_samples_leaf': 20, 'max_depth': 10}\n",
      "0.879  for {'min_samples_leaf': 30, 'max_depth': 7}\n",
      "0.872  for {'min_samples_leaf': 40, 'max_depth': 13}\n",
      "0.869  for {'min_samples_leaf': 45, 'max_depth': 14}\n",
      "0.873  for {'min_samples_leaf': 40, 'max_depth': 9}\n",
      "0.879  for {'min_samples_leaf': 35, 'max_depth': 5}\n",
      "0.873  for {'min_samples_leaf': 25, 'max_depth': 9}\n",
      "0.866  for {'min_samples_leaf': 10, 'max_depth': 11}\n",
      "0.870  for {'min_samples_leaf': 20, 'max_depth': 14}\n",
      "0.881  for {'min_samples_leaf': 15, 'max_depth': 7}\n",
      "0.876  for {'min_samples_leaf': 20, 'max_depth': 8}\n",
      "0.873  for {'min_samples_leaf': 20, 'max_depth': 11}\n",
      "0.870  for {'min_samples_leaf': 25, 'max_depth': 10}\n",
      "0.869  for {'min_samples_leaf': 10, 'max_depth': 9}\n",
      "0.872  for {'min_samples_leaf': 30, 'max_depth': 13}\n",
      "0.884  for {'min_samples_leaf': 15, 'max_depth': 6}\n",
      "0.869  for {'min_samples_leaf': 45, 'max_depth': 12}\n",
      "0.870  for {'min_samples_leaf': 15, 'max_depth': 13}\n",
      "0.877  for {'min_samples_leaf': 35, 'max_depth': 6}\n",
      "0.872  for {'min_samples_leaf': 40, 'max_depth': 12}\n"
     ]
    }
   ],
   "source": [
    "GB.enhance_boost_model_second(max_depth=np.arange(5,15,1) ,min_sample_leaf=np.arange(10,50,5)) #hyperparameter tuning"
   ]
  },
  {
   "cell_type": "code",
   "execution_count": 118,
   "metadata": {
    "colab": {
     "base_uri": "https://localhost:8080/",
     "height": 36
    },
    "id": "JNTPpUuLShp3",
    "outputId": "f6b30f0f-0295-4e65-9cf1-6c87cf873a03"
   },
   "outputs": [
    {
     "data": {
      "text/plain": [
       "'validation_score:0.8787296407243879,train_score:0.9225414026860724 ,test_score :0.9004212617550982'"
      ]
     },
     "execution_count": 118,
     "metadata": {},
     "output_type": "execute_result"
    }
   ],
   "source": [
    "GB=Regresssion_models(df_lat,\"price\",GradientBoostingRegressor(learning_rate=0.2,n_estimators=190,max_depth= 3,min_samples_leaf= 30)) #instantiate the class\n",
    "GB.score() #calculating score (cv, train, test) for third trial  >> the best model\n"
   ]
  },
  {
   "cell_type": "code",
   "execution_count": 119,
   "metadata": {
    "colab": {
     "base_uri": "https://localhost:8080/",
     "height": 36
    },
    "id": "KORtPT1O4YYS",
    "outputId": "3202f9c4-2bfe-40b2-f6ca-4bceb687eeb6"
   },
   "outputs": [
    {
     "data": {
      "text/plain": [
       "'root mean square error : 118318.03811132658'"
      ]
     },
     "execution_count": 119,
     "metadata": {},
     "output_type": "execute_result"
    }
   ],
   "source": [
    "GB.rmse()"
   ]
  },
  {
   "cell_type": "markdown",
   "metadata": {
    "id": "TErgGjaqT5Uj"
   },
   "source": [
    "#Feature Selection "
   ]
  },
  {
   "cell_type": "code",
   "execution_count": 120,
   "metadata": {
    "id": "iJ4_vnQftpvA"
   },
   "outputs": [],
   "source": [
    "from seaborn.regression import algo\n",
    "class feature_selection () :  #selecting the most important features using random forest and lasso\n",
    "  def __init__ (self ,data, target): \n",
    "    \"\"\" variables related to the entire class \"\"\"\n",
    "    self.data =data \n",
    "    self.target =target \n",
    "  \n",
    "  def Random_forest_method (self) : \n",
    "    \"\"\" most important features, depending on random forest selestion\"\"\"\n",
    "    X=self.data.drop(self.target ,axis=1)\n",
    "    y=self.data[self.target]\n",
    "    X_train,X_test,y_train,y_test=train_test_split(X,y,test_size=0.25 ,random_state=0) \n",
    "    rf=RandomForestRegressor(n_estimators=100)\n",
    "    rf.fit(X_train ,y_train)\n",
    "    importance_feature= pd.Series ( rf.feature_importances_, index=X.columns).sort_values() \n",
    "    s=pd.Series(np.array(X.columns)[rf.feature_importances_ > 0.05])\n",
    "    df_rf=pd.DataFrame(self.data.loc[:,s])\n",
    "    plot=importance_feature.plot(kind=\"bar\") \n",
    "    return df_rf,plot\n",
    "  \n",
    "  def Lasso(self ,k_fold=5) : \n",
    "    \"\"\" most important features, depending on lasso coefficients (ignoring the coefficient which shrinks to zero)\"\"\"\n",
    "    X=self.data.drop(self.target ,axis=1)\n",
    "    y=self.data[self.target]\n",
    "    X_train,X_test,y_train,y_test=train_test_split(X,y,test_size=0.25 ,random_state=0) \n",
    "    pipeline = Pipeline([('scaler',StandardScaler()),\n",
    "                     ('model',Lasso())])    \n",
    "    search = GridSearchCV(pipeline,\n",
    "                      {'model__alpha':np.arange(0.1,3,0.3)},\n",
    "                      cv = k_fold, scoring=\"neg_mean_squared_error\")\n",
    "    search.fit(X_train,y_train)\n",
    "    coefficients = search.best_estimator_.named_steps['model'].coef_\n",
    "    importance = np.abs(coefficients)  \n",
    "    importance_feature= pd.Series ( importance, index=X.columns).sort_values()\n",
    "    s=pd.Series(np.array(X.columns)[importance > 0]) \n",
    "    df_lasso=pd.DataFrame(self.data.loc[:,s])\n",
    "    plot=importance_feature.plot(kind=\"bar\")\n",
    "    return df_lasso ,plot\n"
   ]
  },
  {
   "cell_type": "code",
   "execution_count": 121,
   "metadata": {
    "id": "d-_BanYhHwbi"
   },
   "outputs": [],
   "source": [
    "mdl=feature_selection(df_lat,\"price\") #instantiate class"
   ]
  },
  {
   "cell_type": "code",
   "execution_count": 122,
   "metadata": {
    "id": "lMffh1wXVr36"
   },
   "outputs": [
    {
     "name": "stdout",
     "output_type": "stream",
     "text": [
      "       sqft_living grade      lat     long\n",
      "0             1180     7  47.5112 -122.257\n",
      "1             2570     7  47.7210 -122.319\n",
      "2              770     6  47.7379 -122.233\n",
      "3             1960     7  47.5208 -122.393\n",
      "4             1680     8  47.6168 -122.045\n",
      "...            ...   ...      ...      ...\n",
      "21608         1530     8  47.6993 -122.346\n",
      "21609         2310     8  47.5107 -122.362\n",
      "21610         1020     7  47.5944 -122.299\n",
      "21611         1600     8  47.5345 -122.069\n",
      "21612         1020     7  47.5941 -122.299\n",
      "\n",
      "[21596 rows x 4 columns]\n"
     ]
    },
    {
     "data": {
      "image/png": "[encoded data removed]",
      "text/plain": [
       "<Figure size 640x480 with 1 Axes>"
      ]
     },
     "metadata": {},
     "output_type": "display_data"
    }
   ],
   "source": [
    "df_rf,plot_rf=mdl.Random_forest_method() #selecting features depending on random forest, and printing the dataframe and plot\n",
    "print(df_rf)"
   ]
  },
  {
   "cell_type": "code",
   "execution_count": 123,
   "metadata": {
    "id": "eFllKsG4V_Dd"
   },
   "outputs": [
    {
     "name": "stdout",
     "output_type": "stream",
     "text": [
      "       sqft_living grade      lat     long\n",
      "0             1180     7  47.5112 -122.257\n",
      "1             2570     7  47.7210 -122.319\n",
      "2              770     6  47.7379 -122.233\n",
      "3             1960     7  47.5208 -122.393\n",
      "4             1680     8  47.6168 -122.045\n",
      "...            ...   ...      ...      ...\n",
      "21608         1530     8  47.6993 -122.346\n",
      "21609         2310     8  47.5107 -122.362\n",
      "21610         1020     7  47.5944 -122.299\n",
      "21611         1600     8  47.5345 -122.069\n",
      "21612         1020     7  47.5941 -122.299\n",
      "\n",
      "[21596 rows x 4 columns]\n"
     ]
    },
    {
     "data": {
      "image/png": "[encoded data removed]",
      "text/plain": [
       "<Figure size 640x480 with 1 Axes>"
      ]
     },
     "metadata": {},
     "output_type": "display_data"
    }
   ],
   "source": [
    "df_lasso,plot_lasso=mdl.Lasso() #selecting features depending on lasso, and printing the dataframe and plot\n",
    "print(df_rf)"
   ]
  },
  {
   "cell_type": "markdown",
   "metadata": {
    "id": "pG765wrQUM4K"
   },
   "source": [
    "#Saving the best trained model "
   ]
  },
  {
   "cell_type": "code",
   "execution_count": 124,
   "metadata": {
    "id": "WtJi6MoOe_Po"
   },
   "outputs": [
    {
     "data": {
      "text/html": [
       "<style>#sk-container-id-1 {color: black;}#sk-container-id-1 pre{padding: 0;}#sk-container-id-1 div.sk-toggleable {background-color: white;}#sk-container-id-1 label.sk-toggleable__label {cursor: pointer;display: block;width: 100%;margin-bottom: 0;padding: 0.3em;box-sizing: border-box;text-align: center;}#sk-container-id-1 label.sk-toggleable__label-arrow:before {content: \"▸\";float: left;margin-right: 0.25em;color: #696969;}#sk-container-id-1 label.sk-toggleable__label-arrow:hover:before {color: black;}#sk-container-id-1 div.sk-estimator:hover label.sk-toggleable__label-arrow:before {color: black;}#sk-container-id-1 div.sk-toggleable__content {max-height: 0;max-width: 0;overflow: hidden;text-align: left;background-color: #f0f8ff;}#sk-container-id-1 div.sk-toggleable__content pre {margin: 0.2em;color: black;border-radius: 0.25em;background-color: #f0f8ff;}#sk-container-id-1 input.sk-toggleable__control:checked~div.sk-toggleable__content {max-height: 200px;max-width: 100%;overflow: auto;}#sk-container-id-1 input.sk-toggleable__control:checked~label.sk-toggleable__label-arrow:before {content: \"▾\";}#sk-container-id-1 div.sk-estimator input.sk-toggleable__control:checked~label.sk-toggleable__label {background-color: #d4ebff;}#sk-container-id-1 div.sk-label input.sk-toggleable__control:checked~label.sk-toggleable__label {background-color: #d4ebff;}#sk-container-id-1 input.sk-hidden--visually {border: 0;clip: rect(1px 1px 1px 1px);clip: rect(1px, 1px, 1px, 1px);height: 1px;margin: -1px;overflow: hidden;padding: 0;position: absolute;width: 1px;}#sk-container-id-1 div.sk-estimator {font-family: monospace;background-color: #f0f8ff;border: 1px dotted black;border-radius: 0.25em;box-sizing: border-box;margin-bottom: 0.5em;}#sk-container-id-1 div.sk-estimator:hover {background-color: #d4ebff;}#sk-container-id-1 div.sk-parallel-item::after {content: \"\";width: 100%;border-bottom: 1px solid gray;flex-grow: 1;}#sk-container-id-1 div.sk-label:hover label.sk-toggleable__label {background-color: #d4ebff;}#sk-container-id-1 div.sk-serial::before {content: \"\";position: absolute;border-left: 1px solid gray;box-sizing: border-box;top: 0;bottom: 0;left: 50%;z-index: 0;}#sk-container-id-1 div.sk-serial {display: flex;flex-direction: column;align-items: center;background-color: white;padding-right: 0.2em;padding-left: 0.2em;position: relative;}#sk-container-id-1 div.sk-item {position: relative;z-index: 1;}#sk-container-id-1 div.sk-parallel {display: flex;align-items: stretch;justify-content: center;background-color: white;position: relative;}#sk-container-id-1 div.sk-item::before, #sk-container-id-1 div.sk-parallel-item::before {content: \"\";position: absolute;border-left: 1px solid gray;box-sizing: border-box;top: 0;bottom: 0;left: 50%;z-index: -1;}#sk-container-id-1 div.sk-parallel-item {display: flex;flex-direction: column;z-index: 1;position: relative;background-color: white;}#sk-container-id-1 div.sk-parallel-item:first-child::after {align-self: flex-end;width: 50%;}#sk-container-id-1 div.sk-parallel-item:last-child::after {align-self: flex-start;width: 50%;}#sk-container-id-1 div.sk-parallel-item:only-child::after {width: 0;}#sk-container-id-1 div.sk-dashed-wrapped {border: 1px dashed gray;margin: 0 0.4em 0.5em 0.4em;box-sizing: border-box;padding-bottom: 0.4em;background-color: white;}#sk-container-id-1 div.sk-label label {font-family: monospace;font-weight: bold;display: inline-block;line-height: 1.2em;}#sk-container-id-1 div.sk-label-container {text-align: center;}#sk-container-id-1 div.sk-container {/* jupyter's `normalize.less` sets `[hidden] { display: none; }` but bootstrap.min.css set `[hidden] { display: none !important; }` so we also need the `!important` here to be able to override the default hidden behavior on the sphinx rendered scikit-learn.org. See: https://github.com/scikit-learn/scikit-learn/issues/21755 */display: inline-block !important;position: relative;}#sk-container-id-1 div.sk-text-repr-fallback {display: none;}</style><div id=\"sk-container-id-1\" class=\"sk-top-container\"><div class=\"sk-text-repr-fallback\"><pre>GradientBoostingRegressor(learning_rate=0.2, min_samples_leaf=30,\n",
       "                          n_estimators=190)</pre><b>In a Jupyter environment, please rerun this cell to show the HTML representation or trust the notebook. <br />On GitHub, the HTML representation is unable to render, please try loading this page with nbviewer.org.</b></div><div class=\"sk-container\" hidden><div class=\"sk-item\"><div class=\"sk-estimator sk-toggleable\"><input class=\"sk-toggleable__control sk-hidden--visually\" id=\"sk-estimator-id-1\" type=\"checkbox\" checked><label for=\"sk-estimator-id-1\" class=\"sk-toggleable__label sk-toggleable__label-arrow\">GradientBoostingRegressor</label><div class=\"sk-toggleable__content\"><pre>GradientBoostingRegressor(learning_rate=0.2, min_samples_leaf=30,\n",
       "                          n_estimators=190)</pre></div></div></div></div></div>"
      ],
      "text/plain": [
       "GradientBoostingRegressor(learning_rate=0.2, min_samples_leaf=30,\n",
       "                          n_estimators=190)"
      ]
     },
     "execution_count": 124,
     "metadata": {},
     "output_type": "execute_result"
    }
   ],
   "source": [
    "#Training the best model\n",
    "GB=GradientBoostingRegressor(learning_rate=0.2,n_estimators=190,max_depth= 3,min_samples_leaf= 30)\n",
    "X=df_lat.drop(\"price\",axis=1)\n",
    "y=df_lat[\"price\"]\n",
    "X_train,X_test,y_train,y_test=train_test_split(X,y,test_size=0.25 ,random_state=0) \n",
    "GB.fit(X_train,y_train) "
   ]
  },
  {
   "cell_type": "code",
   "execution_count": 125,
   "metadata": {
    "id": "HZnKso9NO8lw"
   },
   "outputs": [],
   "source": [
    "import pickle \n",
    "filename =\"trained_model2.sav\"#naming the file we want to save it in\n",
    "pickle.dump(GB,open(filename,\"wb\"))#saving the best model (GB)\n"
   ]
  },
  {
   "cell_type": "code",
   "execution_count": 126,
   "metadata": {
    "id": "eWMzQO4WkJEk"
   },
   "outputs": [],
   "source": [
    "# loading the model \n",
    "load_model=pickle.load(open(\"trained_model2.sav\",\"rb\"))"
   ]
  },
  {
   "cell_type": "markdown",
   "metadata": {
    "id": "N-iTK36W8Aw-"
   },
   "source": [
    "# The End\n"
   ]
  }
 ],
 "metadata": {
  "colab": {
   "provenance": []
  },
  "kernelspec": {
   "display_name": "Python 3 (ipykernel)",
   "language": "python",
   "name": "python3"
  },
  "language_info": {
   "codemirror_mode": {
    "name": "ipython",
    "version": 3
   },
   "file_extension": ".py",
   "mimetype": "text/x-python",
   "name": "python",
   "nbconvert_exporter": "python",
   "pygments_lexer": "ipython3",
   "version": "3.11.4"
  }
 },
 "nbformat": 4,
 "nbformat_minor": 4
}
